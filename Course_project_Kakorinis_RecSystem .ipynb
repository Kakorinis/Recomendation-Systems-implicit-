{
 "cells": [
  {
   "cell_type": "markdown",
   "id": "1131a477",
   "metadata": {},
   "source": [
    "# Course Project\n",
    "\n",
    "\n",
    "- Обучить двухуровневыю модель на retail_train.csv, для предсказаний использовать retail_test1.csv\n",
    "- Целевая метрика precision@5 > 0.230 на тесте\n",
    "- Сдаем ссылку на github с решением. В решении должны быть отчетливо видна метрика на новом тестовом сете из файла retail_test1.csv, то есть вам нужно для всех юзеров из этого файла выдать выши рекомендации, и посчитать на actual покупках precision@5. \n",
    "\n",
    "**!! Мы не рассматриваем холодный старт для пользователя, все наши пользователя одинаковы во всех сетах, поэтому нужно позаботиться об их исключении из теста.**\n"
   ]
  },
  {
   "cell_type": "markdown",
   "id": "6b396a8a",
   "metadata": {},
   "source": [
    "### Импортирую нужные для работы библиотеки:"
   ]
  },
  {
   "cell_type": "code",
   "execution_count": 1,
   "id": "8a35406f",
   "metadata": {},
   "outputs": [
    {
     "name": "stderr",
     "output_type": "stream",
     "text": [
      "/home/kakorinis/anaconda3/envs/recsystems/lib/python3.8/site-packages/tqdm/auto.py:22: TqdmWarning: IProgress not found. Please update jupyter and ipywidgets. See https://ipywidgets.readthedocs.io/en/stable/user_install.html\n",
      "  from .autonotebook import tqdm as notebook_tqdm\n"
     ]
    }
   ],
   "source": [
    "import pandas as pd\n",
    "import numpy as np\n",
    "import matplotlib.pyplot as plt\n",
    "%matplotlib inline\n",
    "\n",
    "# Для работы с матрицами\n",
    "from scipy.sparse import csr_matrix\n",
    "\n",
    "# Матричная факторизация\n",
    "from implicit import als\n",
    "\n",
    "# Модель второго уровня\n",
    "from lightgbm import LGBMClassifier\n",
    "\n",
    "# т.к. я не гружу из отдельного файла, а тут все алгоритмы предобработки прописал\n",
    "from implicit.als import AlternatingLeastSquares\n",
    "from implicit.nearest_neighbours import ItemItemRecommender  \n",
    "from implicit.nearest_neighbours import bm25_weight, tfidf_weight\n",
    "\n",
    "from sklearn.model_selection import GridSearchCV, KFold "
   ]
  },
  {
   "cell_type": "markdown",
   "id": "ed446a20",
   "metadata": {},
   "source": [
    "### Алгоритмы предобработки, функции подсчета метрик, пайплайн (класс MainRecommender):"
   ]
  },
  {
   "cell_type": "code",
   "execution_count": 2,
   "id": "beb60724",
   "metadata": {},
   "outputs": [],
   "source": [
    "# обрезка датасета для обучения согласно легенде от полученного от бизнеса запроса\n",
    "def prefilter_items(data, take_n_popular=5000, item_features=None): \n",
    "\n",
    "    # Уберем самые популярные товары (их и так купят)   \n",
    "    popularity = data.groupby('item_id')['user_id'].nunique().reset_index() \n",
    "    \n",
    "    n = data['user_id'].nunique()\n",
    "    popularity['weight'] = [i/n for i in popularity['user_id']]\n",
    "    top_popular = popularity[popularity['weight'] > 0.5].item_id.tolist()\n",
    "    data = data.loc[~data['item_id'].isin(top_popular)]\n",
    "    \n",
    "    # Уберем самые НЕ популярные товары (их и так НЕ купят)       \n",
    "    top_notpopular = popularity[popularity['weight'] < 0.01].item_id.tolist()\n",
    "    data = data.loc[~data['item_id'].isin(top_notpopular)]\n",
    "    \n",
    "    # Уберем товары, которые не продавались за последние 12 месяцев\n",
    "    weeks_list = data.groupby('item_id')['week_no'].max().reset_index()\n",
    "    weeks_list = weeks_list.loc[weeks_list.week_no < 82].item_id\n",
    "    data = data.loc[~data['item_id'].isin(weeks_list.values)]\n",
    "\n",
    "    # Уберем не интересные для рекоммендаций категории (department)\n",
    "    if item_features is not None:\n",
    "        department_size = pd.DataFrame(item_features. \\\n",
    "                                       groupby('department')['item_id'].nunique(). \\\n",
    "                                       sort_values(ascending=False)).reset_index()\n",
    "\n",
    "        department_size.columns = ['department', 'n_items']\n",
    "        rare_departments = department_size[department_size['n_items'] < 150].department.tolist()\n",
    "        items_in_rare_departments = item_features[\n",
    "            item_features['department'].isin(rare_departments)].item_id.unique().tolist()\n",
    "\n",
    "        data = data.loc[~data['item_id'].isin(items_in_rare_departments)]\n",
    "    \n",
    "    # Уберем слишком дешевые товары (на них не заработаем). 1 покупка из рассылок стоит 60 руб. \n",
    "    data['price'] = data['sales_value'] / (np.maximum(data['quantity'], 1))\n",
    "    data = data.loc[data['price'] > 2]\n",
    "\n",
    "    # Уберем слишком дорогие товарыs\n",
    "    data = data.loc[data['price'] < 50]\n",
    "    \n",
    "    # Возбмем топ по популярности\n",
    "    popularity2 = data.groupby('item_id')['quantity'].sum().reset_index()\n",
    "    popularity2.rename(columns={'quantity': 'n_sold'}, inplace=True)\n",
    "\n",
    "    top = popularity2.sort_values('n_sold', ascending=False).head(take_n_popular).item_id.tolist()\n",
    "    \n",
    "    # Заведем фиктивный item_id (если юзер покупал товары из топ-n, то он \"купил\" такой товар)\n",
    "    data.loc[~data['item_id'].isin(top), 'item_id'] = 999999 # присваивается 999999 всем непопулярным\n",
    "    \n",
    "    return data\n",
    "\n",
    "\n",
    "# Метрики\n",
    "def precision(recommended_list, bought_list):\n",
    "    bought_list = np.array(bought_list)\n",
    "    recommended_list = np.array(recommended_list)\n",
    "    flags = np.isin(bought_list, recommended_list)\n",
    "    return flags.sum() / len(recommended_list)\n",
    "\n",
    "def precision_at_k(recommended_list, bought_list, k=5):\n",
    "    return precision(recommended_list[:k], bought_list)\n",
    "\n",
    "def recall(recommended_list, bought_list):\n",
    "    bought_list = np.array(bought_list)\n",
    "    recommended_list = np.array(recommended_list)\n",
    "    flags = np.isin(bought_list, recommended_list)\n",
    "    return flags.sum() / len(bought_list)\n",
    "\n",
    "def recall_at_k(recommended_list, bought_list, k=5):\n",
    "    return recall(recommended_list[:k], bought_list)\n",
    "\n",
    "# посчтитать recall@k сразу по всем колонкам в сгрупп. таблице с рекомендациями и реально купленными товарами\n",
    "def calc_recall(df_data, top_k):\n",
    "    for col_name in df_data.columns[2:]:\n",
    "        yield col_name, df_data.apply(lambda row: recall_at_k(row[col_name], row[ACTUAL_COL], k=top_k), axis=1).mean()\n",
    "\n",
    "# посчтитать precision@k агалогично\n",
    "def calc_precision(df_data, top_k):\n",
    "    for col_name in df_data.columns[2:]:\n",
    "        yield col_name, df_data.apply(lambda row: precision_at_k(row[col_name], row[ACTUAL_COL], k=top_k), axis=1).mean()       \n",
    "\n",
    "# Первая модель обучения ALS со всем препроцессингом для нее\n",
    "class MainRecommender:\n",
    "\n",
    "    def __init__(self, data: pd.DataFrame, weighting: bool = True):\n",
    "\n",
    "        # Топ покупок каждого юзера\n",
    "        self.top_purchases = data.groupby(['user_id', 'item_id'])['quantity'].count().reset_index()\n",
    "        self.top_purchases.sort_values('quantity', ascending=False, inplace=True)\n",
    "        self.top_purchases = self.top_purchases[self.top_purchases['item_id'] != 999999]\n",
    "\n",
    "        # Топ покупок по всему датасету\n",
    "        self.overall_top_purchases = data.groupby('item_id')['quantity'].count().reset_index()\n",
    "        self.overall_top_purchases.sort_values('quantity', ascending=False, inplace=True)\n",
    "        self.overall_top_purchases = self.overall_top_purchases[self.overall_top_purchases['item_id'] != 999999]\n",
    "        self.overall_top_purchases = self.overall_top_purchases.item_id.tolist()\n",
    "\n",
    "        self.user_item_matrix = self._prepare_matrix(data)  # pd.DataFrame\n",
    "        self.id_to_itemid, self.id_to_userid, \\\n",
    "        self.itemid_to_id, self.userid_to_id = self._prepare_dicts(self.user_item_matrix)\n",
    "\n",
    "        if weighting:\n",
    "            self.user_item_matrix = bm25_weight(self.user_item_matrix.T).T\n",
    "\n",
    "        self.model = self.fit(self.user_item_matrix)\n",
    "        self.own_recommender = self.fit_own_recommender(self.user_item_matrix)\n",
    "\n",
    "    @staticmethod\n",
    "    def _prepare_matrix(data: pd.DataFrame):\n",
    "        \"\"\"Готовит user-item матрицу\"\"\"\n",
    "        user_item_matrix = pd.pivot_table(data,\n",
    "                                          index='user_id',\n",
    "                                          columns='item_id',\n",
    "                                          values='quantity',  #  можноо разное пробовать                                         aggfunc='count',\n",
    "                                          fill_value=0\n",
    "                                          )\n",
    "\n",
    "        user_item_matrix = user_item_matrix.astype(float)  # необходимый тип матрицы для implicit\n",
    "\n",
    "        return user_item_matrix\n",
    "\n",
    "    @staticmethod\n",
    "    def _prepare_dicts(user_item_matrix):\n",
    "        \"\"\"Подготавливает вспомогательные словари\"\"\"\n",
    "\n",
    "        userids = user_item_matrix.index.values\n",
    "        itemids = user_item_matrix.columns.values\n",
    "\n",
    "        matrix_userids = np.arange(len(userids))\n",
    "        matrix_itemids = np.arange(len(itemids))\n",
    "\n",
    "        id_to_itemid = dict(zip(matrix_itemids, itemids))\n",
    "        id_to_userid = dict(zip(matrix_userids, userids))\n",
    "\n",
    "        itemid_to_id = dict(zip(itemids, matrix_itemids))\n",
    "        userid_to_id = dict(zip(userids, matrix_userids))\n",
    "\n",
    "        return id_to_itemid, id_to_userid, itemid_to_id, userid_to_id\n",
    "\n",
    "    @staticmethod\n",
    "    def fit_own_recommender(user_item_matrix):\n",
    "        \"\"\"Обучает модель, которая рекомендует товары, среди товаров, купленных юзером\"\"\"\n",
    "\n",
    "        own_recommender = ItemItemRecommender(K=1, num_threads=4)\n",
    "        own_recommender.fit(csr_matrix(user_item_matrix).T.tocsr())\n",
    "\n",
    "        return own_recommender\n",
    "\n",
    "    \n",
    "    @staticmethod    # гиперпараметры подобраны в процессе настройки модели, здесь уже лучшие\n",
    "    def fit(user_item_matrix, n_factors=96, regularization=0.1, iterations=15, num_threads=4):\n",
    "        \"\"\"Обучает ALS\"\"\"\n",
    "\n",
    "        model = AlternatingLeastSquares(factors=n_factors,\n",
    "                                        regularization=regularization,\n",
    "                                        iterations=iterations,\n",
    "                                        num_threads=num_threads)\n",
    "        model.fit(csr_matrix(user_item_matrix).T.tocsr())\n",
    "\n",
    "        return model\n",
    "\n",
    "    def _update_dict(self, user_id):\n",
    "        \"\"\"Если появился новыю user / item, то нужно обновить словари\"\"\"\n",
    "\n",
    "        if user_id not in self.userid_to_id.keys():\n",
    "            max_id = max(list(self.userid_to_id.values()))\n",
    "            max_id += 1\n",
    "\n",
    "            self.userid_to_id.update({user_id: max_id})\n",
    "            self.id_to_userid.update({max_id: user_id})\n",
    "\n",
    "    def _get_similar_item(self, item_id):\n",
    "        \"\"\"Находит товар, похожий на item_id\"\"\"\n",
    "        recs = self.model.similar_items(self.itemid_to_id[item_id], N=2)  # Товар похож на себя -> рекомендуем 2 товара\n",
    "        top_rec = recs[1][0]  # И берем второй (не товар из аргумента метода)\n",
    "        return self.id_to_itemid[top_rec]\n",
    "\n",
    "    def _extend_with_top_popular(self, recommendations, N=5):\n",
    "        \"\"\"Если кол-во рекоммендаций < N, то дополняем их топ-популярными\"\"\"\n",
    "\n",
    "        if len(recommendations) < N:\n",
    "            recommendations.extend(self.overall_top_purchases[:N])\n",
    "            recommendations = recommendations[:N]\n",
    "\n",
    "        return recommendations\n",
    "\n",
    "    def _get_recommendations(self, user, model, N=5):\n",
    "        \"\"\"Рекомендации через стардартные библиотеки implicit\"\"\"\n",
    "\n",
    "        self._update_dict(user_id=user)\n",
    "        res = [self.id_to_itemid[rec[0]] for rec in model.recommend(userid=self.userid_to_id[user],\n",
    "                                                                    user_items=csr_matrix(\n",
    "                                                                        self.user_item_matrix).tocsr(),\n",
    "                                                                    N=N,\n",
    "                                                                    filter_already_liked_items=False,\n",
    "                                                                    filter_items=[self.itemid_to_id[999999]],\n",
    "                                                                    recalculate_user=False)]\n",
    "\n",
    "        res = self._extend_with_top_popular(res, N=N)\n",
    "\n",
    "        assert len(res) == N, 'Количество рекомендаций != {}'.format(N)\n",
    "        return res\n",
    "\n",
    "    \n",
    "    def get_als_recommendations(self, user, N=5):\n",
    "        \"\"\"Рекомендации через стардартные библиотеки implicit\"\"\"\n",
    "\n",
    "        self._update_dict(user_id=user)\n",
    "        return self._get_recommendations(user, model=self.model, N=N)\n",
    "\n",
    "    def get_own_recommendations(self, user, N=5):\n",
    "        \"\"\"Рекомендуем товары среди тех, которые юзер уже купил\"\"\"\n",
    "\n",
    "        self._update_dict(user_id=user)\n",
    "        return self._get_recommendations(user, model=self.own_recommender, N=N)\n",
    "\n",
    "    def get_similar_items_recommendation(self, user_id, N=5):\n",
    "        \"\"\"Рекомендуем товары, похожие на топ-N купленных юзером товаров\"\"\"\n",
    "\n",
    "        top_users_purchases = self.top_purchases[self.top_purchases['user_id'] == user_id].head(N)\n",
    "\n",
    "        res = top_users_purchases['item_id'].apply(lambda x: self._get_similar_item(x)).tolist()\n",
    "        res = self._extend_with_top_popular(res, N=N)\n",
    "\n",
    "        assert len(res) == N, 'Количество рекомендаций != {}'.format(N)\n",
    "        return res\n",
    "\n",
    "    def get_similar_users_recommendation(self, user_id, N=5):\n",
    "        \"\"\"Рекомендуем топ-N товаров, среди купленных похожими юзерами\"\"\"\n",
    "\n",
    "        res = []\n",
    "\n",
    "        # Находим топ-N похожих пользователей\n",
    "        similar_users = self.model.similar_users(self.userid_to_id[user_id], N=N + 1)\n",
    "        similar_users = [self.id_to_userid[rec[0]] for rec in similar_users]   # подбираем реальные id юзеров\n",
    "        similar_users = similar_users[1:]  # удалим юзера из запроса\n",
    "\n",
    "        for _user_id in similar_users:\n",
    "            res.extend(self.get_own_recommendations(_user_id, N=1))\n",
    "\n",
    "        res = self._extend_with_top_popular(res, N=N)\n",
    "\n",
    "        assert len(res) == N, 'Количество рекомендаций != {}'.format(N)\n",
    "        return res"
   ]
  },
  {
   "cell_type": "markdown",
   "id": "bd25a7bb",
   "metadata": {},
   "source": [
    "###  Загрузка данных:"
   ]
  },
  {
   "cell_type": "code",
   "execution_count": 3,
   "id": "26a45ecc",
   "metadata": {},
   "outputs": [],
   "source": [
    "data = pd.read_csv('/home/kakorinis/Desktop/GB/GeekBrains/II четверть/Рекомендательные системы/уроки с картинками/webinar_2/retail_train.csv')\n",
    "\n",
    "item_features = pd.read_csv('/home/kakorinis/Desktop/GB/GeekBrains/II четверть/Рекомендательные системы/уроки с картинками/webinar_2/product.csv')\n",
    "\n",
    "user_features = pd.read_csv('/home/kakorinis/Desktop/GB/GeekBrains/II четверть/Рекомендательные системы/уроки с картинками/webinar_2/hh_demographic.csv')\n"
   ]
  },
  {
   "cell_type": "code",
   "execution_count": 4,
   "id": "a43344bc",
   "metadata": {},
   "outputs": [
    {
     "data": {
      "text/html": [
       "<div>\n",
       "<style scoped>\n",
       "    .dataframe tbody tr th:only-of-type {\n",
       "        vertical-align: middle;\n",
       "    }\n",
       "\n",
       "    .dataframe tbody tr th {\n",
       "        vertical-align: top;\n",
       "    }\n",
       "\n",
       "    .dataframe thead th {\n",
       "        text-align: right;\n",
       "    }\n",
       "</style>\n",
       "<table border=\"1\" class=\"dataframe\">\n",
       "  <thead>\n",
       "    <tr style=\"text-align: right;\">\n",
       "      <th></th>\n",
       "      <th>user_id</th>\n",
       "      <th>basket_id</th>\n",
       "      <th>day</th>\n",
       "      <th>item_id</th>\n",
       "      <th>quantity</th>\n",
       "      <th>sales_value</th>\n",
       "      <th>store_id</th>\n",
       "      <th>retail_disc</th>\n",
       "      <th>trans_time</th>\n",
       "      <th>week_no</th>\n",
       "      <th>coupon_disc</th>\n",
       "      <th>coupon_match_disc</th>\n",
       "    </tr>\n",
       "  </thead>\n",
       "  <tbody>\n",
       "    <tr>\n",
       "      <th>0</th>\n",
       "      <td>2375</td>\n",
       "      <td>26984851472</td>\n",
       "      <td>1</td>\n",
       "      <td>1004906</td>\n",
       "      <td>1</td>\n",
       "      <td>1.39</td>\n",
       "      <td>364</td>\n",
       "      <td>-0.6</td>\n",
       "      <td>1631</td>\n",
       "      <td>1</td>\n",
       "      <td>0.0</td>\n",
       "      <td>0.0</td>\n",
       "    </tr>\n",
       "    <tr>\n",
       "      <th>1</th>\n",
       "      <td>2375</td>\n",
       "      <td>26984851472</td>\n",
       "      <td>1</td>\n",
       "      <td>1033142</td>\n",
       "      <td>1</td>\n",
       "      <td>0.82</td>\n",
       "      <td>364</td>\n",
       "      <td>0.0</td>\n",
       "      <td>1631</td>\n",
       "      <td>1</td>\n",
       "      <td>0.0</td>\n",
       "      <td>0.0</td>\n",
       "    </tr>\n",
       "  </tbody>\n",
       "</table>\n",
       "</div>"
      ],
      "text/plain": [
       "   user_id    basket_id  day  item_id  quantity  sales_value  store_id  \\\n",
       "0     2375  26984851472    1  1004906         1         1.39       364   \n",
       "1     2375  26984851472    1  1033142         1         0.82       364   \n",
       "\n",
       "   retail_disc  trans_time  week_no  coupon_disc  coupon_match_disc  \n",
       "0         -0.6        1631        1          0.0                0.0  \n",
       "1          0.0        1631        1          0.0                0.0  "
      ]
     },
     "execution_count": 4,
     "metadata": {},
     "output_type": "execute_result"
    }
   ],
   "source": [
    "data.head(2)"
   ]
  },
  {
   "cell_type": "markdown",
   "id": "0db41c9b",
   "metadata": {},
   "source": [
    "### Разбиение данных на трейн и тест (validation):"
   ]
  },
  {
   "cell_type": "code",
   "execution_count": 5,
   "id": "d94a7b26",
   "metadata": {},
   "outputs": [],
   "source": [
    "ITEM_COL = 'item_id'\n",
    "USER_COL = 'user_id'\n",
    "ACTUAL_COL = 'actual'\n",
    "\n",
    "# преобразовываем колонки одинаковым образом\n",
    "item_features.columns = [col.lower() for col in item_features.columns]\n",
    "user_features.columns = [col.lower() for col in user_features.columns]\n",
    "\n",
    "item_features.rename(columns={'product_id': ITEM_COL}, inplace=True)\n",
    "user_features.rename(columns={'household_key': USER_COL }, inplace=True)\n",
    "\n",
    "\n",
    "# РАЗДЕЛЯЕМ ДАТАСЕТ\n",
    "VAL_MATCHER_WEEKS = 6\n",
    "VAL_RANKER_WEEKS = 3\n",
    "\n",
    "# берем данные для тренировки matching модели - все что до последних 9 недель\n",
    "data_train_matcher = data[data['week_no'] < data['week_no'].max() - (VAL_MATCHER_WEEKS + VAL_RANKER_WEEKS)]\n",
    "\n",
    "# берем данные для валидации matching модели - первые 6 недель после data_train_matcher\n",
    "data_val_matcher = data[(data['week_no'] >= data['week_no'].max() - (VAL_MATCHER_WEEKS + VAL_RANKER_WEEKS)) &\n",
    "                      (data['week_no'] < data['week_no'].max() - (VAL_RANKER_WEEKS))]\n",
    "\n",
    "\n",
    "# берем данные для тренировки ranking модели \n",
    "data_train_ranker = data_val_matcher.copy()  # Для наглядности. Далее мы добавим изменения, и они будут отличаться\n",
    "\n",
    "# берем данные для теста ranking, matching модели - последние 3 недели\n",
    "data_val_ranker = data[data['week_no'] >= data['week_no'].max() - VAL_RANKER_WEEKS]"
   ]
  },
  {
   "cell_type": "code",
   "execution_count": 6,
   "id": "433eb693",
   "metadata": {},
   "outputs": [
    {
     "name": "stdout",
     "output_type": "stream",
     "text": [
      "------------------------------------------------------------\n",
      "train_matcher.shape: (2108779, 12) Users: 2498 Items: 83685\n",
      "------------------------------------------------------------\n",
      "val_matcher.shape: (169711, 12) Users: 2154 Items: 27649\n",
      "------------------------------------------------------------\n",
      "train_ranker.shape: (169711, 12) Users: 2154 Items: 27649\n",
      "------------------------------------------------------------\n",
      "val_ranker.shape: (118314, 12) Users: 2042 Items: 24329\n"
     ]
    }
   ],
   "source": [
    "# смотрим соотношение данных\n",
    "def print_stats_data(df_data, name_df):\n",
    "    print('-'*60)\n",
    "    print(f\"{name_df}.shape: {df_data.shape} Users: {df_data[USER_COL].nunique()} Items: {df_data[ITEM_COL].nunique()}\")\n",
    "    \n",
    "print_stats_data(data_train_matcher,'train_matcher')\n",
    "print_stats_data(data_val_matcher,'val_matcher')\n",
    "print_stats_data(data_train_ranker,'train_ranker')\n",
    "print_stats_data(data_val_ranker,'val_ranker')"
   ]
  },
  {
   "cell_type": "markdown",
   "id": "ddedd080",
   "metadata": {},
   "source": [
    "### ПРЕДОБРАБОТКА ДАННЫХ (урезаем объем):"
   ]
  },
  {
   "cell_type": "code",
   "execution_count": 7,
   "id": "27077095",
   "metadata": {},
   "outputs": [
    {
     "name": "stdout",
     "output_type": "stream",
     "text": [
      "------------------------------------------------------------\n",
      "train_matcher.shape: (541162, 13) Users: 2470 Items: 5001\n"
     ]
    }
   ],
   "source": [
    "data_train_matcher = prefilter_items(data_train_matcher, item_features=item_features, take_n_popular=5000) #5000\n",
    "\n",
    "print_stats_data(data_train_matcher,'train_matcher')"
   ]
  },
  {
   "cell_type": "code",
   "execution_count": 8,
   "id": "b1ee4d84",
   "metadata": {},
   "outputs": [
    {
     "data": {
      "text/html": [
       "<div>\n",
       "<style scoped>\n",
       "    .dataframe tbody tr th:only-of-type {\n",
       "        vertical-align: middle;\n",
       "    }\n",
       "\n",
       "    .dataframe tbody tr th {\n",
       "        vertical-align: top;\n",
       "    }\n",
       "\n",
       "    .dataframe thead th {\n",
       "        text-align: right;\n",
       "    }\n",
       "</style>\n",
       "<table border=\"1\" class=\"dataframe\">\n",
       "  <thead>\n",
       "    <tr style=\"text-align: right;\">\n",
       "      <th></th>\n",
       "      <th>user_id</th>\n",
       "      <th>basket_id</th>\n",
       "      <th>day</th>\n",
       "      <th>item_id</th>\n",
       "      <th>quantity</th>\n",
       "      <th>sales_value</th>\n",
       "      <th>store_id</th>\n",
       "      <th>retail_disc</th>\n",
       "      <th>trans_time</th>\n",
       "      <th>week_no</th>\n",
       "      <th>coupon_disc</th>\n",
       "      <th>coupon_match_disc</th>\n",
       "    </tr>\n",
       "  </thead>\n",
       "  <tbody>\n",
       "    <tr>\n",
       "      <th>7</th>\n",
       "      <td>2375</td>\n",
       "      <td>26984851516</td>\n",
       "      <td>1</td>\n",
       "      <td>1085983</td>\n",
       "      <td>1</td>\n",
       "      <td>2.99</td>\n",
       "      <td>364</td>\n",
       "      <td>-0.4</td>\n",
       "      <td>1642</td>\n",
       "      <td>1</td>\n",
       "      <td>0.0</td>\n",
       "      <td>0.0</td>\n",
       "    </tr>\n",
       "    <tr>\n",
       "      <th>11</th>\n",
       "      <td>1364</td>\n",
       "      <td>26984896261</td>\n",
       "      <td>1</td>\n",
       "      <td>842930</td>\n",
       "      <td>1</td>\n",
       "      <td>2.19</td>\n",
       "      <td>31742</td>\n",
       "      <td>0.0</td>\n",
       "      <td>1520</td>\n",
       "      <td>1</td>\n",
       "      <td>0.0</td>\n",
       "      <td>0.0</td>\n",
       "    </tr>\n",
       "  </tbody>\n",
       "</table>\n",
       "</div>"
      ],
      "text/plain": [
       "    user_id    basket_id  day  item_id  quantity  sales_value  store_id  \\\n",
       "7      2375  26984851516    1  1085983         1         2.99       364   \n",
       "11     1364  26984896261    1   842930         1         2.19     31742   \n",
       "\n",
       "    retail_disc  trans_time  week_no  coupon_disc  coupon_match_disc  \n",
       "7          -0.4        1642        1          0.0                0.0  \n",
       "11          0.0        1520        1          0.0                0.0  "
      ]
     },
     "execution_count": 8,
     "metadata": {},
     "output_type": "execute_result"
    }
   ],
   "source": [
    "data_train_matcher = data_train_matcher.drop('price', axis=1) # убрал price созданную под префильтром\n",
    "data_train_matcher.head(2)                                    "
   ]
  },
  {
   "cell_type": "markdown",
   "id": "dd091bc7",
   "metadata": {},
   "source": [
    "### Убираем холодный старт \n",
    "\n",
    "Можно рекомендовать просто топ популярных товаров новым пользователям, но цель курсовой настроить непосредственно алгоритм предсказания рекомендаций теплым клиентов наилучшим образом  (фокус на тюнинг признаков и подбор гиперпараметров)"
   ]
  },
  {
   "cell_type": "code",
   "execution_count": 9,
   "id": "3480d495",
   "metadata": {},
   "outputs": [
    {
     "name": "stdout",
     "output_type": "stream",
     "text": [
      "------------------------------------------------------------\n",
      "train_matcher.shape: (541162, 12) Users: 2470 Items: 5001\n",
      "------------------------------------------------------------\n",
      "val_matcher.shape: (168867, 12) Users: 2135 Items: 27085\n",
      "------------------------------------------------------------\n",
      "train_ranker.shape: (168867, 12) Users: 2135 Items: 27085\n",
      "------------------------------------------------------------\n",
      "val_ranker.shape: (117836, 12) Users: 2029 Items: 24007\n"
     ]
    }
   ],
   "source": [
    "# Поэтому ищем общих пользователей и оставляем только их\n",
    "\n",
    "common_users = data_train_matcher.user_id.values\n",
    "\n",
    "data_val_matcher = data_val_matcher[data_val_matcher.user_id.isin(common_users)]\n",
    "data_train_ranker = data_train_ranker[data_train_ranker.user_id.isin(common_users)]\n",
    "data_val_ranker = data_val_ranker[data_val_ranker.user_id.isin(common_users)]\n",
    "\n",
    "print_stats_data(data_train_matcher,'train_matcher')\n",
    "print_stats_data(data_val_matcher,'val_matcher')\n",
    "print_stats_data(data_train_ranker,'train_ranker')\n",
    "print_stats_data(data_val_ranker,'val_ranker')"
   ]
  },
  {
   "cell_type": "markdown",
   "id": "670569e2",
   "metadata": {},
   "source": [
    "### Инициализирую модель первого уровня:\n",
    "\n",
    "Примечание:\n",
    "1) AlternatingLeastSquares c n_factors=96, regularization=0.1, iterations=15 - подобрал ранее лучшии гиперпараметры <br>\n",
    "2) Веса взвешены через bm25_weight\n",
    "\n",
    "Схема обучения первой модели применительно к набору data_train и data_val такова:"
   ]
  },
  {
   "cell_type": "code",
   "execution_count": 10,
   "id": "7b225c6a",
   "metadata": {},
   "outputs": [
    {
     "data": {
      "image/png": "[encoded data removed]",
      "text/plain": [
       "<IPython.core.display.Image object>"
      ]
     },
     "execution_count": 10,
     "metadata": {
      "image/png": {
       "width": 800
      }
     },
     "output_type": "execute_result"
    }
   ],
   "source": [
    "from IPython import display\n",
    "display.Image('./scheme1.png', width=800)"
   ]
  },
  {
   "cell_type": "code",
   "execution_count": 11,
   "id": "ac439f85",
   "metadata": {},
   "outputs": [
    {
     "name": "stderr",
     "output_type": "stream",
     "text": [
      "100%|██████████| 15/15 [00:08<00:00,  1.73it/s]\n",
      "100%|██████████| 5001/5001 [00:00<00:00, 9135.01it/s]\n"
     ]
    }
   ],
   "source": [
    "recommender = MainRecommender(data_train_matcher)"
   ]
  },
  {
   "cell_type": "code",
   "execution_count": 12,
   "id": "76b81b51",
   "metadata": {},
   "outputs": [
    {
     "data": {
      "text/plain": [
       "[1005935, 973181, 15926887, 899624, 1003616]"
      ]
     },
     "execution_count": 12,
     "metadata": {},
     "output_type": "execute_result"
    }
   ],
   "source": [
    "# проверяю что модель работает\n",
    "recommender.get_als_recommendations(2375, N=5)"
   ]
  },
  {
   "cell_type": "markdown",
   "id": "dfa4a799",
   "metadata": {},
   "source": [
    "__Посмотрим на качество работы только лишь первой модели:__"
   ]
  },
  {
   "cell_type": "code",
   "execution_count": 13,
   "id": "318dea66",
   "metadata": {},
   "outputs": [
    {
     "name": "stdout",
     "output_type": "stream",
     "text": [
      "CPU times: user 2min 13s, sys: 2min 4s, total: 4min 18s\n",
      "Wall time: 1min 29s\n"
     ]
    }
   ],
   "source": [
    "%%time\n",
    "\n",
    "# N - это айтем-кандидаты\n",
    "N_PREDICT = 50#0\n",
    "\n",
    "result_eval_matcher = data_val_matcher.groupby(USER_COL)[ITEM_COL].unique().reset_index()\n",
    "result_eval_matcher.columns=[USER_COL, ACTUAL_COL]\n",
    "\n",
    "# таблица для сравнения\n",
    "result_eval_matcher['own_rec'] = result_eval_matcher[USER_COL].apply(lambda x: recommender.get_own_recommendations(x, N=N_PREDICT))\n",
    "result_eval_matcher['als_rec'] = result_eval_matcher[USER_COL].apply(lambda x: recommender.get_als_recommendations(x, N=50))\n",
    "result_eval_matcher['sim_item_rec'] = result_eval_matcher[USER_COL].apply(lambda x: recommender.get_similar_items_recommendation(x, N=50))\n",
    "#result_eval_matcher['sim_user_rec'] = result_eval_matcher[USER_COL].apply(lambda x: recommender.get_similar_users_recommendation(x, N=50))\n"
   ]
  },
  {
   "cell_type": "code",
   "execution_count": 14,
   "id": "93fd3ce8",
   "metadata": {},
   "outputs": [
    {
     "name": "stdout",
     "output_type": "stream",
     "text": [
      "CPU times: user 1.53 s, sys: 256 ms, total: 1.79 s\n",
      "Wall time: 1.53 s\n"
     ]
    },
    {
     "data": {
      "text/plain": [
       "[('own_rec', 0.05466289022218661),\n",
       " ('als_rec', 0.05062833424989492),\n",
       " ('sim_item_rec', 0.036437026092781453)]"
      ]
     },
     "execution_count": 14,
     "metadata": {},
     "output_type": "execute_result"
    }
   ],
   "source": [
    "%%time\n",
    "\n",
    "# recall@50\n",
    "sorted(calc_recall(result_eval_matcher, N_PREDICT), key=lambda x: x[1], reverse=True)\n"
   ]
  },
  {
   "cell_type": "code",
   "execution_count": 15,
   "id": "ba3ba5b5",
   "metadata": {},
   "outputs": [
    {
     "name": "stdout",
     "output_type": "stream",
     "text": [
      "CPU times: user 820 ms, sys: 21.6 ms, total: 841 ms\n",
      "Wall time: 818 ms\n"
     ]
    },
    {
     "data": {
      "text/plain": [
       "[('als_rec', 0.09245901639344262),\n",
       " ('sim_item_rec', 0.06960187353629978),\n",
       " ('own_rec', 0.06885245901639345)]"
      ]
     },
     "execution_count": 15,
     "metadata": {},
     "output_type": "execute_result"
    }
   ],
   "source": [
    "%%time\n",
    "\n",
    "# presicion\n",
    "sorted(calc_precision(result_eval_matcher, 5), key=lambda x: x[1], reverse=True)\n",
    "\n",
    "# несмотря на более высокую точность als модели на bm25, own_rec на тесте работает лучше (проверял)"
   ]
  },
  {
   "cell_type": "markdown",
   "id": "5b09d935",
   "metadata": {},
   "source": [
    "### Предобработка данных для модели второго уровня:\n"
   ]
  },
  {
   "cell_type": "code",
   "execution_count": 16,
   "id": "e828e859",
   "metadata": {},
   "outputs": [
    {
     "data": {
      "image/jpeg": "[encoded data removed]",
      "text/plain": [
       "<IPython.core.display.Image object>"
      ]
     },
     "execution_count": 16,
     "metadata": {
      "image/jpeg": {
       "width": 850
      }
     },
     "output_type": "execute_result"
    }
   ],
   "source": [
    "# Схема алгоритма подготовки данных для модели 2-го уровня:\n",
    "display.Image('./scheme2.JPG', width=850)"
   ]
  },
  {
   "cell_type": "code",
   "execution_count": 17,
   "id": "00c0cb54",
   "metadata": {},
   "outputs": [
    {
     "data": {
      "text/html": [
       "<div>\n",
       "<style scoped>\n",
       "    .dataframe tbody tr th:only-of-type {\n",
       "        vertical-align: middle;\n",
       "    }\n",
       "\n",
       "    .dataframe tbody tr th {\n",
       "        vertical-align: top;\n",
       "    }\n",
       "\n",
       "    .dataframe thead th {\n",
       "        text-align: right;\n",
       "    }\n",
       "</style>\n",
       "<table border=\"1\" class=\"dataframe\">\n",
       "  <thead>\n",
       "    <tr style=\"text-align: right;\">\n",
       "      <th></th>\n",
       "      <th>user_id</th>\n",
       "      <th>item_id</th>\n",
       "      <th>target</th>\n",
       "    </tr>\n",
       "  </thead>\n",
       "  <tbody>\n",
       "    <tr>\n",
       "      <th>0</th>\n",
       "      <td>2070</td>\n",
       "      <td>1137483</td>\n",
       "      <td>0.0</td>\n",
       "    </tr>\n",
       "    <tr>\n",
       "      <th>1</th>\n",
       "      <td>2070</td>\n",
       "      <td>10457532</td>\n",
       "      <td>0.0</td>\n",
       "    </tr>\n",
       "  </tbody>\n",
       "</table>\n",
       "</div>"
      ],
      "text/plain": [
       "   user_id   item_id  target\n",
       "0     2070   1137483     0.0\n",
       "1     2070  10457532     0.0"
      ]
     },
     "execution_count": 17,
     "metadata": {},
     "output_type": "execute_result"
    }
   ],
   "source": [
    "N_PREDICT = 500\n",
    "\n",
    "# взяли пользователей из трейна для ранжирования.  кандидат- это имеется ввиду item_id рекомендация\n",
    "df_match_candidates = pd.DataFrame(data_train_ranker[USER_COL].unique())\n",
    "df_match_candidates.columns = [USER_COL]\n",
    "\n",
    "# собираем  item_id-кандитатов с первого этапа (matcher)\n",
    "df_match_candidates['candidates'] = df_match_candidates[USER_COL].apply(lambda x: recommender.get_own_recommendations(x, N=N_PREDICT))\n",
    "# get_own_recommendations из recommender = MainRecommender(...)  выдает для каждого юзера \n",
    "# N рекомендаций item_id с учетом разбавления top-N товарами, где это нужно\n",
    "\n",
    "# тремя следующими строками мы разворачиваем сгруппированный датафрейм в список пар юзер - товар\n",
    "df_items = df_match_candidates.apply(lambda x: pd.Series(x['candidates']), axis=1).stack().reset_index(level=1, drop=True)\n",
    "df_items.name = 'item_id'\n",
    "df_match_candidates = df_match_candidates.drop('candidates', axis=1).join(df_items)\n",
    "\n",
    "# Создаем трейн сет для ранжирования \n",
    "df_ranker_train = data_train_ranker[[USER_COL, ITEM_COL]].copy()\n",
    "\n",
    "# все что юзер реально купил будет классом 1\n",
    "df_ranker_train['target'] = 1 \n",
    "df_ranker_train = df_match_candidates.merge(df_ranker_train, on=[USER_COL, ITEM_COL], how='left')\n",
    "# чистим дубликаты\n",
    "df_ranker_train = df_ranker_train.drop_duplicates(subset=[USER_COL, ITEM_COL])\n",
    "\n",
    "# все что мы нарекомендовали и присоедили к df_ranker_train (рекомендованные, но не купленные) метим классом 0\n",
    "df_ranker_train['target'].fillna(0, inplace= True)\n",
    "\n",
    "\n",
    "df_ranker_train.head(2)"
   ]
  },
  {
   "cell_type": "code",
   "execution_count": 18,
   "id": "77d8682c",
   "metadata": {},
   "outputs": [
    {
     "data": {
      "text/plain": [
       "0.0    970764\n",
       "1.0     26113\n",
       "Name: target, dtype: int64"
      ]
     },
     "execution_count": 18,
     "metadata": {},
     "output_type": "execute_result"
    }
   ],
   "source": [
    "# смотрим соотношение классов\n",
    "df_ranker_train.target.value_counts()"
   ]
  },
  {
   "cell_type": "markdown",
   "id": "1346d2ff",
   "metadata": {},
   "source": [
    "df_ranker_train как видим выше не содержит каких-либо фичей.\n",
    "\n",
    "Его нужно наполнить признаками(future engineering), чтобы модели МО было на чем учиться"
   ]
  },
  {
   "cell_type": "code",
   "execution_count": 19,
   "id": "7f78c886",
   "metadata": {},
   "outputs": [],
   "source": [
    "# Заполняю стандартными фичами \n",
    "df_ranker_train = df_ranker_train.merge(item_features, on='item_id', how='left')\n",
    "df_ranker_train = df_ranker_train.merge(user_features, on='user_id', how='left')"
   ]
  },
  {
   "cell_type": "markdown",
   "id": "643b01ce",
   "metadata": {},
   "source": [
    "__Перед созданием новых парных признаков интересно проверить качество работы модели без них:__"
   ]
  },
  {
   "cell_type": "code",
   "execution_count": 20,
   "id": "4d0170af",
   "metadata": {},
   "outputs": [
    {
     "name": "stderr",
     "output_type": "stream",
     "text": [
      "/home/kakorinis/anaconda3/envs/recsystems/lib/python3.8/site-packages/lightgbm/basic.py:1513: UserWarning: categorical_column in param dict is overridden.\n",
      "  _log_warning(f'{cat_alias} in param dict is overridden.')\n"
     ]
    },
    {
     "name": "stdout",
     "output_type": "stream",
     "text": [
      "('reranked_own_rec', 0.09464285714285714)\n",
      "('own_rec', 0.04948250369640217)\n"
     ]
    },
    {
     "name": "stderr",
     "output_type": "stream",
     "text": [
      "/tmp/ipykernel_6312/493078646.py:58: RuntimeWarning: invalid value encountered in long_scalars\n",
      "  return flags.sum() / len(recommended_list)\n"
     ]
    }
   ],
   "source": [
    "X_train = df_ranker_train.drop('target', axis=1)\n",
    "y_train = df_ranker_train[['target']]\n",
    "\n",
    "X_train_copy = X_train.copy()\n",
    "cat_feats = [i for i in X_train.columns if X_train[i].dtype == 'object']\n",
    "\n",
    "\n",
    "# Преобразовываю объекты в категориальные признаки\n",
    "X_train_copy[cat_feats] = X_train[cat_feats].astype('category')\n",
    "\n",
    "lgb = LGBMClassifier(objective='binary',\n",
    "                     max_depth=6, \n",
    "                     n_estimators=500, \n",
    "                     learning_rate=0.001, \n",
    "                     categorical_column=cat_feats,\n",
    "                     n_jobs=-1,\n",
    "                   )\n",
    "\n",
    "lgb.fit(X_train_copy, np.ravel(y_train,order='C'))\n",
    "\n",
    "train_preds = lgb.predict_proba(X_train_copy)\n",
    "\n",
    "\n",
    "def rerank(user_id, res_table):\n",
    "    return res_table[res_table[USER_COL]==user_id].sort_values('proba_item_purchase', ascending=False).head(5).item_id.tolist()\n",
    "\n",
    "TOPK_PRECISION = 5\n",
    "predicts = df_ranker_train.copy()\n",
    "predicts['proba_item_purchase'] = train_preds[:,1]\n",
    "\n",
    "results_table = data_val_ranker.groupby(USER_COL)[ITEM_COL].unique().reset_index()\n",
    "results_table.columns=[USER_COL, ACTUAL_COL]\n",
    "\n",
    "results_table['own_rec'] = results_table[USER_COL].apply(lambda x: recommender.get_own_recommendations(x, N=N_PREDICT))\n",
    "results_table['reranked_own_rec'] = results_table[USER_COL].apply(lambda user_id: rerank(user_id, predicts))\n",
    "\n",
    "print(*sorted(calc_precision(results_table, TOPK_PRECISION), key=lambda x: x[1], reverse=True), sep='\\n')"
   ]
  },
  {
   "cell_type": "code",
   "execution_count": null,
   "id": "278a90f2",
   "metadata": {},
   "outputs": [],
   "source": []
  },
  {
   "cell_type": "markdown",
   "id": "6881d908",
   "metadata": {},
   "source": [
    "__Создаю новые парные фичи:__                                                                          "
   ]
  },
  {
   "cell_type": "code",
   "execution_count": 21,
   "id": "3c9c17a3",
   "metadata": {},
   "outputs": [
    {
     "data": {
      "text/html": [
       "<div>\n",
       "<style scoped>\n",
       "    .dataframe tbody tr th:only-of-type {\n",
       "        vertical-align: middle;\n",
       "    }\n",
       "\n",
       "    .dataframe tbody tr th {\n",
       "        vertical-align: top;\n",
       "    }\n",
       "\n",
       "    .dataframe thead th {\n",
       "        text-align: right;\n",
       "    }\n",
       "</style>\n",
       "<table border=\"1\" class=\"dataframe\">\n",
       "  <thead>\n",
       "    <tr style=\"text-align: right;\">\n",
       "      <th></th>\n",
       "      <th>item_id</th>\n",
       "      <th>manufacturer</th>\n",
       "      <th>department</th>\n",
       "      <th>brand</th>\n",
       "      <th>commodity_desc</th>\n",
       "      <th>sub_commodity_desc</th>\n",
       "      <th>curr_size_of_product</th>\n",
       "    </tr>\n",
       "  </thead>\n",
       "  <tbody>\n",
       "    <tr>\n",
       "      <th>0</th>\n",
       "      <td>25671</td>\n",
       "      <td>2</td>\n",
       "      <td>GROCERY</td>\n",
       "      <td>National</td>\n",
       "      <td>FRZN ICE</td>\n",
       "      <td>ICE - CRUSHED/CUBED</td>\n",
       "      <td>22 LB</td>\n",
       "    </tr>\n",
       "    <tr>\n",
       "      <th>1</th>\n",
       "      <td>26081</td>\n",
       "      <td>2</td>\n",
       "      <td>MISC. TRANS.</td>\n",
       "      <td>National</td>\n",
       "      <td>NO COMMODITY DESCRIPTION</td>\n",
       "      <td>NO SUBCOMMODITY DESCRIPTION</td>\n",
       "      <td></td>\n",
       "    </tr>\n",
       "  </tbody>\n",
       "</table>\n",
       "</div>"
      ],
      "text/plain": [
       "   item_id  manufacturer    department     brand            commodity_desc  \\\n",
       "0    25671             2       GROCERY  National                  FRZN ICE   \n",
       "1    26081             2  MISC. TRANS.  National  NO COMMODITY DESCRIPTION   \n",
       "\n",
       "            sub_commodity_desc curr_size_of_product  \n",
       "0          ICE - CRUSHED/CUBED                22 LB  \n",
       "1  NO SUBCOMMODITY DESCRIPTION                       "
      ]
     },
     "execution_count": 21,
     "metadata": {},
     "output_type": "execute_result"
    }
   ],
   "source": [
    "item_features.head(2)"
   ]
  },
  {
   "cell_type": "code",
   "execution_count": 22,
   "id": "b1c50813",
   "metadata": {},
   "outputs": [
    {
     "data": {
      "text/html": [
       "<div>\n",
       "<style scoped>\n",
       "    .dataframe tbody tr th:only-of-type {\n",
       "        vertical-align: middle;\n",
       "    }\n",
       "\n",
       "    .dataframe tbody tr th {\n",
       "        vertical-align: top;\n",
       "    }\n",
       "\n",
       "    .dataframe thead th {\n",
       "        text-align: right;\n",
       "    }\n",
       "</style>\n",
       "<table border=\"1\" class=\"dataframe\">\n",
       "  <thead>\n",
       "    <tr style=\"text-align: right;\">\n",
       "      <th></th>\n",
       "      <th>age_desc</th>\n",
       "      <th>marital_status_code</th>\n",
       "      <th>income_desc</th>\n",
       "      <th>homeowner_desc</th>\n",
       "      <th>hh_comp_desc</th>\n",
       "      <th>household_size_desc</th>\n",
       "      <th>kid_category_desc</th>\n",
       "      <th>user_id</th>\n",
       "    </tr>\n",
       "  </thead>\n",
       "  <tbody>\n",
       "    <tr>\n",
       "      <th>0</th>\n",
       "      <td>65+</td>\n",
       "      <td>A</td>\n",
       "      <td>35-49K</td>\n",
       "      <td>Homeowner</td>\n",
       "      <td>2 Adults No Kids</td>\n",
       "      <td>2</td>\n",
       "      <td>None/Unknown</td>\n",
       "      <td>1</td>\n",
       "    </tr>\n",
       "    <tr>\n",
       "      <th>1</th>\n",
       "      <td>45-54</td>\n",
       "      <td>A</td>\n",
       "      <td>50-74K</td>\n",
       "      <td>Homeowner</td>\n",
       "      <td>2 Adults No Kids</td>\n",
       "      <td>2</td>\n",
       "      <td>None/Unknown</td>\n",
       "      <td>7</td>\n",
       "    </tr>\n",
       "  </tbody>\n",
       "</table>\n",
       "</div>"
      ],
      "text/plain": [
       "  age_desc marital_status_code income_desc homeowner_desc      hh_comp_desc  \\\n",
       "0      65+                   A      35-49K      Homeowner  2 Adults No Kids   \n",
       "1    45-54                   A      50-74K      Homeowner  2 Adults No Kids   \n",
       "\n",
       "  household_size_desc kid_category_desc  user_id  \n",
       "0                   2      None/Unknown        1  \n",
       "1                   2      None/Unknown        7  "
      ]
     },
     "execution_count": 22,
     "metadata": {},
     "output_type": "execute_result"
    }
   ],
   "source": [
    "user_features.head(2)"
   ]
  },
  {
   "cell_type": "code",
   "execution_count": 23,
   "id": "9fa2820a",
   "metadata": {},
   "outputs": [
    {
     "data": {
      "text/html": [
       "<div>\n",
       "<style scoped>\n",
       "    .dataframe tbody tr th:only-of-type {\n",
       "        vertical-align: middle;\n",
       "    }\n",
       "\n",
       "    .dataframe tbody tr th {\n",
       "        vertical-align: top;\n",
       "    }\n",
       "\n",
       "    .dataframe thead th {\n",
       "        text-align: right;\n",
       "    }\n",
       "</style>\n",
       "<table border=\"1\" class=\"dataframe\">\n",
       "  <thead>\n",
       "    <tr style=\"text-align: right;\">\n",
       "      <th></th>\n",
       "      <th>user_id</th>\n",
       "      <th>basket_id</th>\n",
       "      <th>day</th>\n",
       "      <th>item_id</th>\n",
       "      <th>quantity</th>\n",
       "      <th>sales_value</th>\n",
       "      <th>store_id</th>\n",
       "      <th>retail_disc</th>\n",
       "      <th>trans_time</th>\n",
       "      <th>week_no</th>\n",
       "      <th>coupon_disc</th>\n",
       "      <th>coupon_match_disc</th>\n",
       "    </tr>\n",
       "  </thead>\n",
       "  <tbody>\n",
       "    <tr>\n",
       "      <th>7</th>\n",
       "      <td>2375</td>\n",
       "      <td>26984851516</td>\n",
       "      <td>1</td>\n",
       "      <td>1085983</td>\n",
       "      <td>1</td>\n",
       "      <td>2.99</td>\n",
       "      <td>364</td>\n",
       "      <td>-0.4</td>\n",
       "      <td>1642</td>\n",
       "      <td>1</td>\n",
       "      <td>0.0</td>\n",
       "      <td>0.0</td>\n",
       "    </tr>\n",
       "    <tr>\n",
       "      <th>11</th>\n",
       "      <td>1364</td>\n",
       "      <td>26984896261</td>\n",
       "      <td>1</td>\n",
       "      <td>842930</td>\n",
       "      <td>1</td>\n",
       "      <td>2.19</td>\n",
       "      <td>31742</td>\n",
       "      <td>0.0</td>\n",
       "      <td>1520</td>\n",
       "      <td>1</td>\n",
       "      <td>0.0</td>\n",
       "      <td>0.0</td>\n",
       "    </tr>\n",
       "  </tbody>\n",
       "</table>\n",
       "</div>"
      ],
      "text/plain": [
       "    user_id    basket_id  day  item_id  quantity  sales_value  store_id  \\\n",
       "7      2375  26984851516    1  1085983         1         2.99       364   \n",
       "11     1364  26984896261    1   842930         1         2.19     31742   \n",
       "\n",
       "    retail_disc  trans_time  week_no  coupon_disc  coupon_match_disc  \n",
       "7          -0.4        1642        1          0.0                0.0  \n",
       "11          0.0        1520        1          0.0                0.0  "
      ]
     },
     "execution_count": 23,
     "metadata": {},
     "output_type": "execute_result"
    }
   ],
   "source": [
    "# сделаем объединенный сет данных - все что было до последних 3 недель (данные с трейна и теста первой модели)\n",
    "df_join_train_matcher = pd.concat([data_train_matcher, data_val_matcher])\n",
    "df_join_train_matcher.head(2)"
   ]
  },
  {
   "cell_type": "code",
   "execution_count": 24,
   "id": "d180e4aa",
   "metadata": {},
   "outputs": [],
   "source": [
    "#  пару категорий нужно внести чтобы сделать связки с ними\n",
    "df_join_train_matcher = df_join_train_matcher.merge(item_features.loc[:,['department', 'item_id']], how='left',on=[ITEM_COL])\n",
    "df_join_train_matcher = df_join_train_matcher.merge(item_features.loc[:,['brand', 'item_id']], how='left',on=[ITEM_COL])"
   ]
  },
  {
   "cell_type": "code",
   "execution_count": 25,
   "id": "d7e7c345",
   "metadata": {},
   "outputs": [],
   "source": [
    "#создаю фичу кол-ва покупок юзера в рамках каждой категории товаров (а-ля ранжирую категории по каждому юзеру)\n",
    "df_ranker_train = df_ranker_train.merge(df_join_train_matcher.groupby(by=[USER_COL, 'department']).agg('quantity').sum().rename('total_sales_in_deps'), how='left',on=[USER_COL,'department'])\n",
    "\n",
    "#создаю фичу ср. цены покупки юзера в рамках каждой категории товаров \n",
    "df_ranker_train = df_ranker_train.merge(df_join_train_matcher.groupby(by=[USER_COL, 'department']).agg('sales_value').mean().rename('mean_price_in_deps'), how='left',on=[USER_COL,'department'])\n",
    "\n",
    "#создаю фичу кол-ва покупок каждого товара для каждого юзера (персональный топ товаров)\n",
    "df_ranker_train = df_ranker_train.merge(df_join_train_matcher.groupby(by=[USER_COL, ITEM_COL]).agg('quantity').sum().rename('total_user_item_quantity'), how='left',on=[USER_COL,ITEM_COL])\n"
   ]
  },
  {
   "cell_type": "code",
   "execution_count": 26,
   "id": "684910d9",
   "metadata": {},
   "outputs": [
    {
     "data": {
      "text/html": [
       "<div>\n",
       "<style scoped>\n",
       "    .dataframe tbody tr th:only-of-type {\n",
       "        vertical-align: middle;\n",
       "    }\n",
       "\n",
       "    .dataframe tbody tr th {\n",
       "        vertical-align: top;\n",
       "    }\n",
       "\n",
       "    .dataframe thead th {\n",
       "        text-align: right;\n",
       "    }\n",
       "</style>\n",
       "<table border=\"1\" class=\"dataframe\">\n",
       "  <thead>\n",
       "    <tr style=\"text-align: right;\">\n",
       "      <th></th>\n",
       "      <th>user_id</th>\n",
       "      <th>item_id</th>\n",
       "      <th>target</th>\n",
       "      <th>manufacturer</th>\n",
       "      <th>department</th>\n",
       "      <th>brand</th>\n",
       "      <th>commodity_desc</th>\n",
       "      <th>sub_commodity_desc</th>\n",
       "      <th>curr_size_of_product</th>\n",
       "      <th>age_desc</th>\n",
       "      <th>marital_status_code</th>\n",
       "      <th>income_desc</th>\n",
       "      <th>homeowner_desc</th>\n",
       "      <th>hh_comp_desc</th>\n",
       "      <th>household_size_desc</th>\n",
       "      <th>kid_category_desc</th>\n",
       "      <th>total_sales_in_deps</th>\n",
       "      <th>mean_price_in_deps</th>\n",
       "      <th>total_user_item_quantity</th>\n",
       "    </tr>\n",
       "  </thead>\n",
       "  <tbody>\n",
       "    <tr>\n",
       "      <th>0</th>\n",
       "      <td>2070</td>\n",
       "      <td>1137483</td>\n",
       "      <td>0.0</td>\n",
       "      <td>236</td>\n",
       "      <td>GROCERY</td>\n",
       "      <td>National</td>\n",
       "      <td>FROZEN PIE/DESSERTS</td>\n",
       "      <td>FRZN PIE SHELLS PASTRY SHELL</td>\n",
       "      <td>2-12 OZ</td>\n",
       "      <td>45-54</td>\n",
       "      <td>U</td>\n",
       "      <td>50-74K</td>\n",
       "      <td>Unknown</td>\n",
       "      <td>Unknown</td>\n",
       "      <td>1</td>\n",
       "      <td>None/Unknown</td>\n",
       "      <td>483.0</td>\n",
       "      <td>3.339657</td>\n",
       "      <td>1.0</td>\n",
       "    </tr>\n",
       "    <tr>\n",
       "      <th>1</th>\n",
       "      <td>2070</td>\n",
       "      <td>10457532</td>\n",
       "      <td>0.0</td>\n",
       "      <td>69</td>\n",
       "      <td>GROCERY</td>\n",
       "      <td>Private</td>\n",
       "      <td>COLD CEREAL</td>\n",
       "      <td>KIDS CEREAL</td>\n",
       "      <td>13 OZ</td>\n",
       "      <td>45-54</td>\n",
       "      <td>U</td>\n",
       "      <td>50-74K</td>\n",
       "      <td>Unknown</td>\n",
       "      <td>Unknown</td>\n",
       "      <td>1</td>\n",
       "      <td>None/Unknown</td>\n",
       "      <td>483.0</td>\n",
       "      <td>3.339657</td>\n",
       "      <td>3.0</td>\n",
       "    </tr>\n",
       "  </tbody>\n",
       "</table>\n",
       "</div>"
      ],
      "text/plain": [
       "   user_id   item_id  target  manufacturer department     brand  \\\n",
       "0     2070   1137483     0.0           236    GROCERY  National   \n",
       "1     2070  10457532     0.0            69    GROCERY   Private   \n",
       "\n",
       "        commodity_desc            sub_commodity_desc curr_size_of_product  \\\n",
       "0  FROZEN PIE/DESSERTS  FRZN PIE SHELLS PASTRY SHELL              2-12 OZ   \n",
       "1          COLD CEREAL                   KIDS CEREAL                13 OZ   \n",
       "\n",
       "  age_desc marital_status_code income_desc homeowner_desc hh_comp_desc  \\\n",
       "0    45-54                   U      50-74K        Unknown      Unknown   \n",
       "1    45-54                   U      50-74K        Unknown      Unknown   \n",
       "\n",
       "  household_size_desc kid_category_desc  total_sales_in_deps  \\\n",
       "0                   1      None/Unknown                483.0   \n",
       "1                   1      None/Unknown                483.0   \n",
       "\n",
       "   mean_price_in_deps  total_user_item_quantity  \n",
       "0            3.339657                       1.0  \n",
       "1            3.339657                       3.0  "
      ]
     },
     "execution_count": 26,
     "metadata": {},
     "output_type": "execute_result"
    }
   ],
   "source": [
    "df_ranker_train.head(2)"
   ]
  },
  {
   "cell_type": "code",
   "execution_count": 27,
   "id": "b9525d89",
   "metadata": {},
   "outputs": [],
   "source": [
    "X_train = df_ranker_train.drop('target', axis=1)\n",
    "y_train = df_ranker_train[['target']]"
   ]
  },
  {
   "cell_type": "code",
   "execution_count": 28,
   "id": "c0de7589",
   "metadata": {},
   "outputs": [
    {
     "name": "stdout",
     "output_type": "stream",
     "text": [
      "<class 'pandas.core.frame.DataFrame'>\n",
      "Int64Index: 996877 entries, 0 to 996876\n",
      "Data columns (total 18 columns):\n",
      " #   Column                    Non-Null Count   Dtype  \n",
      "---  ------                    --------------   -----  \n",
      " 0   user_id                   996877 non-null  int64  \n",
      " 1   item_id                   996877 non-null  int64  \n",
      " 2   manufacturer              996877 non-null  int64  \n",
      " 3   department                996877 non-null  object \n",
      " 4   brand                     996877 non-null  object \n",
      " 5   commodity_desc            996877 non-null  object \n",
      " 6   sub_commodity_desc        996877 non-null  object \n",
      " 7   curr_size_of_product      996877 non-null  object \n",
      " 8   age_desc                  361980 non-null  object \n",
      " 9   marital_status_code       361980 non-null  object \n",
      " 10  income_desc               361980 non-null  object \n",
      " 11  homeowner_desc            361980 non-null  object \n",
      " 12  hh_comp_desc              361980 non-null  object \n",
      " 13  household_size_desc       361980 non-null  object \n",
      " 14  kid_category_desc         361980 non-null  object \n",
      " 15  total_sales_in_deps       956408 non-null  float64\n",
      " 16  mean_price_in_deps        956408 non-null  float64\n",
      " 17  total_user_item_quantity  286154 non-null  float64\n",
      "dtypes: float64(3), int64(3), object(12)\n",
      "memory usage: 144.5+ MB\n"
     ]
    }
   ],
   "source": [
    "X_train.info()"
   ]
  },
  {
   "cell_type": "code",
   "execution_count": 29,
   "id": "6420326a",
   "metadata": {},
   "outputs": [],
   "source": [
    "# МАСШТАБИРУЮ новые колич. признаки\n",
    "X_train_copy = X_train.copy()\n",
    "\n",
    "cat_feats = [i for i in X_train.columns if X_train[i].dtype == 'object']\n",
    "num_feats = ['total_sales_in_deps', 'mean_price_in_deps','total_user_item_quantity']\n",
    "\n",
    "from sklearn.preprocessing import MinMaxScaler\n",
    "scaler = MinMaxScaler()\n",
    "\n",
    "scaled_data = scaler.fit_transform(X_train_copy[num_feats]) # здесь массив нампай без названий колонок\n",
    "X_train_copy[num_feats] = scaled_data # возвращаю названия колонок и остальные признаки\n",
    "\n",
    "#------------------------------ если не масштабировать числовые и все загонять в категориальные, хуже скор, \n",
    "#                                                                                     да и неправильно это\n",
    "# cat_feats =  X_train.columns[2:].tolist()\n",
    "\n",
    "# Преобразовываю объекты в категориальные признаки\n",
    "X_train_copy[cat_feats] = X_train[cat_feats].astype('category')"
   ]
  },
  {
   "cell_type": "code",
   "execution_count": 30,
   "id": "4fde5f89",
   "metadata": {},
   "outputs": [],
   "source": [
    "for i in num_feats:\n",
    "    X_train_copy[i].fillna(0, inplace=True)"
   ]
  },
  {
   "cell_type": "markdown",
   "id": "bde79cc8",
   "metadata": {},
   "source": [
    "### Инициализирую модель второго уровня:"
   ]
  },
  {
   "cell_type": "code",
   "execution_count": 31,
   "id": "d26230c1",
   "metadata": {},
   "outputs": [
    {
     "name": "stderr",
     "output_type": "stream",
     "text": [
      "/home/kakorinis/anaconda3/envs/recsystems/lib/python3.8/site-packages/lightgbm/basic.py:1513: UserWarning: categorical_column in param dict is overridden.\n",
      "  _log_warning(f'{cat_alias} in param dict is overridden.')\n"
     ]
    },
    {
     "name": "stdout",
     "output_type": "stream",
     "text": [
      "CPU times: user 3min 46s, sys: 656 ms, total: 3min 47s\n",
      "Wall time: 1min 2s\n"
     ]
    }
   ],
   "source": [
    "%%time\n",
    "\n",
    "lgb = LGBMClassifier(objective='binary',\n",
    "                     max_depth=6, \n",
    "                     n_estimators=500, \n",
    "                     learning_rate=0.001, \n",
    "                     categorical_column=cat_feats,\n",
    "                     n_jobs=-1,\n",
    "                   )\n",
    "\n",
    "lgb.fit(X_train_copy, np.ravel(y_train,order='C'))\n",
    "\n",
    "train_preds = lgb.predict_proba(X_train_copy)"
   ]
  },
  {
   "cell_type": "code",
   "execution_count": 32,
   "id": "b7f0aecc",
   "metadata": {},
   "outputs": [
    {
     "name": "stderr",
     "output_type": "stream",
     "text": [
      "/tmp/ipykernel_6312/493078646.py:58: RuntimeWarning: invalid value encountered in long_scalars\n",
      "  return flags.sum() / len(recommended_list)\n"
     ]
    },
    {
     "name": "stdout",
     "output_type": "stream",
     "text": [
      "('reranked_own_rec', 0.2803571428571429)\n",
      "('own_rec', 0.04948250369640217)\n"
     ]
    }
   ],
   "source": [
    "# функция ранжирования\n",
    "def rerank(user_id, res_table):\n",
    "    return res_table[res_table[USER_COL]==user_id].sort_values('proba_item_purchase', ascending=False).head(5).item_id.tolist()\n",
    "\n",
    "TOPK_PRECISION = 5\n",
    "predicts = df_ranker_train.copy()\n",
    "predicts['proba_item_purchase'] = train_preds[:,1]\n",
    "\n",
    "results_table = data_val_ranker.groupby(USER_COL)[ITEM_COL].unique().reset_index()\n",
    "results_table.columns=[USER_COL, ACTUAL_COL]\n",
    "\n",
    "results_table['own_rec'] = results_table[USER_COL].apply(lambda x: recommender.get_own_recommendations(x, N=N_PREDICT))\n",
    "results_table['reranked_own_rec'] = results_table[USER_COL].apply(lambda user_id: rerank(user_id, predicts))\n",
    "\n",
    "print(*sorted(calc_precision(results_table, TOPK_PRECISION), key=lambda x: x[1], reverse=True), sep='\\n')"
   ]
  },
  {
   "cell_type": "markdown",
   "id": "505effd9",
   "metadata": {},
   "source": [
    "#### Как видим модель второго уровня улучшила точность с 6 до 28%"
   ]
  },
  {
   "cell_type": "markdown",
   "id": "92416fb5",
   "metadata": {},
   "source": [
    "### Приступим к проверке работы алгоритма на тестовом датасете:"
   ]
  },
  {
   "cell_type": "code",
   "execution_count": 33,
   "id": "6a3c5633",
   "metadata": {},
   "outputs": [
    {
     "data": {
      "text/plain": [
       "(88734, 12)"
      ]
     },
     "execution_count": 33,
     "metadata": {},
     "output_type": "execute_result"
    }
   ],
   "source": [
    "data_test = pd.read_csv('/home/kakorinis/Desktop/GB/GeekBrains/II четверть/Рекомендательные системы/уроки с картинками/course_project/retail_test1.csv')\n",
    "\n",
    "data_test.shape"
   ]
  },
  {
   "cell_type": "code",
   "execution_count": 34,
   "id": "bd8070ae",
   "metadata": {},
   "outputs": [
    {
     "data": {
      "text/html": [
       "<div>\n",
       "<style scoped>\n",
       "    .dataframe tbody tr th:only-of-type {\n",
       "        vertical-align: middle;\n",
       "    }\n",
       "\n",
       "    .dataframe tbody tr th {\n",
       "        vertical-align: top;\n",
       "    }\n",
       "\n",
       "    .dataframe thead th {\n",
       "        text-align: right;\n",
       "    }\n",
       "</style>\n",
       "<table border=\"1\" class=\"dataframe\">\n",
       "  <thead>\n",
       "    <tr style=\"text-align: right;\">\n",
       "      <th></th>\n",
       "      <th>user_id</th>\n",
       "      <th>basket_id</th>\n",
       "      <th>day</th>\n",
       "      <th>item_id</th>\n",
       "      <th>quantity</th>\n",
       "      <th>sales_value</th>\n",
       "      <th>store_id</th>\n",
       "      <th>retail_disc</th>\n",
       "      <th>trans_time</th>\n",
       "      <th>week_no</th>\n",
       "      <th>coupon_disc</th>\n",
       "      <th>coupon_match_disc</th>\n",
       "    </tr>\n",
       "  </thead>\n",
       "  <tbody>\n",
       "    <tr>\n",
       "      <th>0</th>\n",
       "      <td>1340</td>\n",
       "      <td>41652823310</td>\n",
       "      <td>664</td>\n",
       "      <td>912987</td>\n",
       "      <td>1</td>\n",
       "      <td>8.49</td>\n",
       "      <td>446</td>\n",
       "      <td>0.0</td>\n",
       "      <td>52</td>\n",
       "      <td>96</td>\n",
       "      <td>0.0</td>\n",
       "      <td>0.0</td>\n",
       "    </tr>\n",
       "    <tr>\n",
       "      <th>1</th>\n",
       "      <td>588</td>\n",
       "      <td>41652838477</td>\n",
       "      <td>664</td>\n",
       "      <td>1024426</td>\n",
       "      <td>1</td>\n",
       "      <td>6.29</td>\n",
       "      <td>388</td>\n",
       "      <td>0.0</td>\n",
       "      <td>8</td>\n",
       "      <td>96</td>\n",
       "      <td>0.0</td>\n",
       "      <td>0.0</td>\n",
       "    </tr>\n",
       "  </tbody>\n",
       "</table>\n",
       "</div>"
      ],
      "text/plain": [
       "   user_id    basket_id  day  item_id  quantity  sales_value  store_id  \\\n",
       "0     1340  41652823310  664   912987         1         8.49       446   \n",
       "1      588  41652838477  664  1024426         1         6.29       388   \n",
       "\n",
       "   retail_disc  trans_time  week_no  coupon_disc  coupon_match_disc  \n",
       "0          0.0          52       96          0.0                0.0  \n",
       "1          0.0           8       96          0.0                0.0  "
      ]
     },
     "execution_count": 34,
     "metadata": {},
     "output_type": "execute_result"
    }
   ],
   "source": [
    "data_test.head(2)"
   ]
  },
  {
   "cell_type": "markdown",
   "id": "7acb05e8",
   "metadata": {},
   "source": [
    "__Отсеиваю холодных юзеров аналогично как это делалось на обучении:__"
   ]
  },
  {
   "cell_type": "code",
   "execution_count": 35,
   "id": "a7b27f1a",
   "metadata": {},
   "outputs": [
    {
     "data": {
      "text/plain": [
       "(88403, 12)"
      ]
     },
     "execution_count": 35,
     "metadata": {},
     "output_type": "execute_result"
    }
   ],
   "source": [
    "# применяю тот же подход, что и на обучения по холодным юзерам\n",
    "data_test = data_test[data_test.user_id.isin(common_users)]\n",
    "\n",
    "data_test.shape"
   ]
  },
  {
   "cell_type": "markdown",
   "id": "ddf10a2c",
   "metadata": {},
   "source": [
    "__Если включить этот блок, то 'reranked_own_rec' = 0.245, что показывает приемлемое переобучение от 28% на трейне__"
   ]
  },
  {
   "cell_type": "code",
   "execution_count": 36,
   "id": "5f6ba20f",
   "metadata": {},
   "outputs": [],
   "source": [
    "# убираем новые айтемы, неизвестные на обучении\n",
    "# common_items = data_train_matcher.item_id.unique()\n",
    "# data_test = data_test[data_test.item_id.isin(common_items)]\n",
    "\n",
    "# data_test.shape\n",
    "# -----------------\n",
    "# (30548, 12)"
   ]
  },
  {
   "cell_type": "markdown",
   "id": "7a265f51",
   "metadata": {},
   "source": [
    "##### Data_test нужно также как и data_train_matcher преобразовать в сет с таргетами и фичами:"
   ]
  },
  {
   "cell_type": "code",
   "execution_count": 37,
   "id": "551fb7ac",
   "metadata": {},
   "outputs": [
    {
     "data": {
      "text/html": [
       "<div>\n",
       "<style scoped>\n",
       "    .dataframe tbody tr th:only-of-type {\n",
       "        vertical-align: middle;\n",
       "    }\n",
       "\n",
       "    .dataframe tbody tr th {\n",
       "        vertical-align: top;\n",
       "    }\n",
       "\n",
       "    .dataframe thead th {\n",
       "        text-align: right;\n",
       "    }\n",
       "</style>\n",
       "<table border=\"1\" class=\"dataframe\">\n",
       "  <thead>\n",
       "    <tr style=\"text-align: right;\">\n",
       "      <th></th>\n",
       "      <th>user_id</th>\n",
       "      <th>item_id</th>\n",
       "      <th>target</th>\n",
       "    </tr>\n",
       "  </thead>\n",
       "  <tbody>\n",
       "    <tr>\n",
       "      <th>0</th>\n",
       "      <td>2070</td>\n",
       "      <td>1137483</td>\n",
       "      <td>0.0</td>\n",
       "    </tr>\n",
       "    <tr>\n",
       "      <th>1</th>\n",
       "      <td>2070</td>\n",
       "      <td>10457532</td>\n",
       "      <td>0.0</td>\n",
       "    </tr>\n",
       "  </tbody>\n",
       "</table>\n",
       "</div>"
      ],
      "text/plain": [
       "   user_id   item_id  target\n",
       "0     2070   1137483     0.0\n",
       "1     2070  10457532     0.0"
      ]
     },
     "execution_count": 37,
     "metadata": {},
     "output_type": "execute_result"
    }
   ],
   "source": [
    "# Создаем из тестовых данных тестовый датасет для ранжирования\n",
    "df_test = data_test[[USER_COL, ITEM_COL]].copy()\n",
    "\n",
    "# все что юзер в тестовых данных реально купил будет 1-ым классом\n",
    "df_test['target'] = 1 \n",
    "df_test = df_match_candidates.merge(df_test, on=[USER_COL, ITEM_COL], how='left') \n",
    "# df_match_candidates  используем тот же, т.к. это список рекомендаций по итогам первой модели\n",
    "\n",
    "# чистим дубликаты\n",
    "df_test = df_test.drop_duplicates(subset=[USER_COL, ITEM_COL])\n",
    "\n",
    "# все что мы нарекомендовали и присоедили к из df_match_candidates метиим 0 классом\n",
    "df_test['target'].fillna(0, inplace= True)\n",
    "\n",
    "\n",
    "df_test.head(2)"
   ]
  },
  {
   "cell_type": "code",
   "execution_count": 38,
   "id": "30ae2398",
   "metadata": {},
   "outputs": [
    {
     "data": {
      "text/html": [
       "<div>\n",
       "<style scoped>\n",
       "    .dataframe tbody tr th:only-of-type {\n",
       "        vertical-align: middle;\n",
       "    }\n",
       "\n",
       "    .dataframe tbody tr th {\n",
       "        vertical-align: top;\n",
       "    }\n",
       "\n",
       "    .dataframe thead th {\n",
       "        text-align: right;\n",
       "    }\n",
       "</style>\n",
       "<table border=\"1\" class=\"dataframe\">\n",
       "  <thead>\n",
       "    <tr style=\"text-align: right;\">\n",
       "      <th></th>\n",
       "      <th>user_id</th>\n",
       "      <th>item_id</th>\n",
       "      <th>target</th>\n",
       "      <th>manufacturer</th>\n",
       "      <th>department</th>\n",
       "      <th>brand</th>\n",
       "      <th>commodity_desc</th>\n",
       "      <th>sub_commodity_desc</th>\n",
       "      <th>curr_size_of_product</th>\n",
       "      <th>age_desc</th>\n",
       "      <th>marital_status_code</th>\n",
       "      <th>income_desc</th>\n",
       "      <th>homeowner_desc</th>\n",
       "      <th>hh_comp_desc</th>\n",
       "      <th>household_size_desc</th>\n",
       "      <th>kid_category_desc</th>\n",
       "    </tr>\n",
       "  </thead>\n",
       "  <tbody>\n",
       "    <tr>\n",
       "      <th>0</th>\n",
       "      <td>2070</td>\n",
       "      <td>1137483</td>\n",
       "      <td>0.0</td>\n",
       "      <td>236</td>\n",
       "      <td>GROCERY</td>\n",
       "      <td>National</td>\n",
       "      <td>FROZEN PIE/DESSERTS</td>\n",
       "      <td>FRZN PIE SHELLS PASTRY SHELL</td>\n",
       "      <td>2-12 OZ</td>\n",
       "      <td>45-54</td>\n",
       "      <td>U</td>\n",
       "      <td>50-74K</td>\n",
       "      <td>Unknown</td>\n",
       "      <td>Unknown</td>\n",
       "      <td>1</td>\n",
       "      <td>None/Unknown</td>\n",
       "    </tr>\n",
       "    <tr>\n",
       "      <th>1</th>\n",
       "      <td>2070</td>\n",
       "      <td>10457532</td>\n",
       "      <td>0.0</td>\n",
       "      <td>69</td>\n",
       "      <td>GROCERY</td>\n",
       "      <td>Private</td>\n",
       "      <td>COLD CEREAL</td>\n",
       "      <td>KIDS CEREAL</td>\n",
       "      <td>13 OZ</td>\n",
       "      <td>45-54</td>\n",
       "      <td>U</td>\n",
       "      <td>50-74K</td>\n",
       "      <td>Unknown</td>\n",
       "      <td>Unknown</td>\n",
       "      <td>1</td>\n",
       "      <td>None/Unknown</td>\n",
       "    </tr>\n",
       "  </tbody>\n",
       "</table>\n",
       "</div>"
      ],
      "text/plain": [
       "   user_id   item_id  target  manufacturer department     brand  \\\n",
       "0     2070   1137483     0.0           236    GROCERY  National   \n",
       "1     2070  10457532     0.0            69    GROCERY   Private   \n",
       "\n",
       "        commodity_desc            sub_commodity_desc curr_size_of_product  \\\n",
       "0  FROZEN PIE/DESSERTS  FRZN PIE SHELLS PASTRY SHELL              2-12 OZ   \n",
       "1          COLD CEREAL                   KIDS CEREAL                13 OZ   \n",
       "\n",
       "  age_desc marital_status_code income_desc homeowner_desc hh_comp_desc  \\\n",
       "0    45-54                   U      50-74K        Unknown      Unknown   \n",
       "1    45-54                   U      50-74K        Unknown      Unknown   \n",
       "\n",
       "  household_size_desc kid_category_desc  \n",
       "0                   1      None/Unknown  \n",
       "1                   1      None/Unknown  "
      ]
     },
     "execution_count": 38,
     "metadata": {},
     "output_type": "execute_result"
    }
   ],
   "source": [
    "# Заполняю стандартными фичами \n",
    "df_test = df_test.merge(item_features, on='item_id', how='left')\n",
    "df_test = df_test.merge(user_features, on='user_id', how='left')\n",
    "df_test.head(2)"
   ]
  },
  {
   "cell_type": "code",
   "execution_count": 39,
   "id": "af140de3",
   "metadata": {},
   "outputs": [],
   "source": [
    "#создаю фичу кол-ва покупок юзера в рамках каждой категории товаров (а-ля ранжирую категории по каждому юзеру)\n",
    "df_test = df_test.merge(df_join_train_matcher.groupby(by=[USER_COL, 'department']).agg('quantity').sum().rename('total_sales_in_deps'), how='left',on=[USER_COL,'department'])\n",
    "\n",
    "#создаю фичу ср. цены покупки юзера в рамках каждой категории товаров \n",
    "df_test = df_test.merge(df_join_train_matcher.groupby(by=[USER_COL, 'department']).agg('sales_value').mean().rename('mean_price_in_deps'), how='left',on=[USER_COL,'department'])\n",
    "\n",
    "#создаю фичу кол-ва покупок каждого товара для каждого юзера (персональный топ товаров)\n",
    "df_test = df_test.merge(df_join_train_matcher.groupby(by=[USER_COL, ITEM_COL]).agg('quantity').sum().rename('total_user_item_quantity'), how='left',on=[USER_COL,ITEM_COL])"
   ]
  },
  {
   "cell_type": "code",
   "execution_count": 40,
   "id": "185fc80a",
   "metadata": {},
   "outputs": [
    {
     "data": {
      "text/html": [
       "<div>\n",
       "<style scoped>\n",
       "    .dataframe tbody tr th:only-of-type {\n",
       "        vertical-align: middle;\n",
       "    }\n",
       "\n",
       "    .dataframe tbody tr th {\n",
       "        vertical-align: top;\n",
       "    }\n",
       "\n",
       "    .dataframe thead th {\n",
       "        text-align: right;\n",
       "    }\n",
       "</style>\n",
       "<table border=\"1\" class=\"dataframe\">\n",
       "  <thead>\n",
       "    <tr style=\"text-align: right;\">\n",
       "      <th></th>\n",
       "      <th>user_id</th>\n",
       "      <th>item_id</th>\n",
       "      <th>target</th>\n",
       "      <th>manufacturer</th>\n",
       "      <th>department</th>\n",
       "      <th>brand</th>\n",
       "      <th>commodity_desc</th>\n",
       "      <th>sub_commodity_desc</th>\n",
       "      <th>curr_size_of_product</th>\n",
       "      <th>age_desc</th>\n",
       "      <th>marital_status_code</th>\n",
       "      <th>income_desc</th>\n",
       "      <th>homeowner_desc</th>\n",
       "      <th>hh_comp_desc</th>\n",
       "      <th>household_size_desc</th>\n",
       "      <th>kid_category_desc</th>\n",
       "      <th>total_sales_in_deps</th>\n",
       "      <th>mean_price_in_deps</th>\n",
       "      <th>total_user_item_quantity</th>\n",
       "    </tr>\n",
       "  </thead>\n",
       "  <tbody>\n",
       "    <tr>\n",
       "      <th>0</th>\n",
       "      <td>2070</td>\n",
       "      <td>1137483</td>\n",
       "      <td>0.0</td>\n",
       "      <td>236</td>\n",
       "      <td>GROCERY</td>\n",
       "      <td>National</td>\n",
       "      <td>FROZEN PIE/DESSERTS</td>\n",
       "      <td>FRZN PIE SHELLS PASTRY SHELL</td>\n",
       "      <td>2-12 OZ</td>\n",
       "      <td>45-54</td>\n",
       "      <td>U</td>\n",
       "      <td>50-74K</td>\n",
       "      <td>Unknown</td>\n",
       "      <td>Unknown</td>\n",
       "      <td>1</td>\n",
       "      <td>None/Unknown</td>\n",
       "      <td>483.0</td>\n",
       "      <td>3.339657</td>\n",
       "      <td>1.0</td>\n",
       "    </tr>\n",
       "    <tr>\n",
       "      <th>1</th>\n",
       "      <td>2070</td>\n",
       "      <td>10457532</td>\n",
       "      <td>0.0</td>\n",
       "      <td>69</td>\n",
       "      <td>GROCERY</td>\n",
       "      <td>Private</td>\n",
       "      <td>COLD CEREAL</td>\n",
       "      <td>KIDS CEREAL</td>\n",
       "      <td>13 OZ</td>\n",
       "      <td>45-54</td>\n",
       "      <td>U</td>\n",
       "      <td>50-74K</td>\n",
       "      <td>Unknown</td>\n",
       "      <td>Unknown</td>\n",
       "      <td>1</td>\n",
       "      <td>None/Unknown</td>\n",
       "      <td>483.0</td>\n",
       "      <td>3.339657</td>\n",
       "      <td>3.0</td>\n",
       "    </tr>\n",
       "  </tbody>\n",
       "</table>\n",
       "</div>"
      ],
      "text/plain": [
       "   user_id   item_id  target  manufacturer department     brand  \\\n",
       "0     2070   1137483     0.0           236    GROCERY  National   \n",
       "1     2070  10457532     0.0            69    GROCERY   Private   \n",
       "\n",
       "        commodity_desc            sub_commodity_desc curr_size_of_product  \\\n",
       "0  FROZEN PIE/DESSERTS  FRZN PIE SHELLS PASTRY SHELL              2-12 OZ   \n",
       "1          COLD CEREAL                   KIDS CEREAL                13 OZ   \n",
       "\n",
       "  age_desc marital_status_code income_desc homeowner_desc hh_comp_desc  \\\n",
       "0    45-54                   U      50-74K        Unknown      Unknown   \n",
       "1    45-54                   U      50-74K        Unknown      Unknown   \n",
       "\n",
       "  household_size_desc kid_category_desc  total_sales_in_deps  \\\n",
       "0                   1      None/Unknown                483.0   \n",
       "1                   1      None/Unknown                483.0   \n",
       "\n",
       "   mean_price_in_deps  total_user_item_quantity  \n",
       "0            3.339657                       1.0  \n",
       "1            3.339657                       3.0  "
      ]
     },
     "execution_count": 40,
     "metadata": {},
     "output_type": "execute_result"
    }
   ],
   "source": [
    "df_test.head(2)"
   ]
  },
  {
   "cell_type": "code",
   "execution_count": 41,
   "id": "f8140b50",
   "metadata": {},
   "outputs": [],
   "source": [
    "X_test = df_test.drop('target', axis=1)\n",
    "y_test = df_test[['target']]"
   ]
  },
  {
   "cell_type": "code",
   "execution_count": 42,
   "id": "57676a60",
   "metadata": {},
   "outputs": [],
   "source": [
    "# Повторяем препроцесинг для теста\n",
    "from sklearn.preprocessing import MinMaxScaler\n",
    "\n",
    "X_test_copy = X_test.copy()\n",
    "cat_feats = [i for i in X_test_copy.columns if X_test_copy[i].dtype == 'object']\n",
    "\n",
    "num_feats = ['total_sales_in_deps','total_user_item_quantity', 'mean_price_in_deps']\n",
    "scaler = MinMaxScaler()\n",
    "\n",
    "scaled_test_data = scaler.fit_transform(X_test_copy[num_feats]) \n",
    "X_test_copy[num_feats] = scaled_test_data \n",
    "\n",
    "\n",
    "X_test_copy[cat_feats] = X_test_copy[cat_feats].astype('category')"
   ]
  },
  {
   "cell_type": "code",
   "execution_count": 43,
   "id": "7dce5151",
   "metadata": {},
   "outputs": [],
   "source": [
    "for i in num_feats:\n",
    "    X_test_copy[i].fillna(0, inplace=True)"
   ]
  },
  {
   "cell_type": "code",
   "execution_count": 44,
   "id": "e8cd6c3f",
   "metadata": {},
   "outputs": [
    {
     "data": {
      "text/html": [
       "<div>\n",
       "<style scoped>\n",
       "    .dataframe tbody tr th:only-of-type {\n",
       "        vertical-align: middle;\n",
       "    }\n",
       "\n",
       "    .dataframe tbody tr th {\n",
       "        vertical-align: top;\n",
       "    }\n",
       "\n",
       "    .dataframe thead th {\n",
       "        text-align: right;\n",
       "    }\n",
       "</style>\n",
       "<table border=\"1\" class=\"dataframe\">\n",
       "  <thead>\n",
       "    <tr style=\"text-align: right;\">\n",
       "      <th></th>\n",
       "      <th>user_id</th>\n",
       "      <th>actual</th>\n",
       "    </tr>\n",
       "  </thead>\n",
       "  <tbody>\n",
       "    <tr>\n",
       "      <th>0</th>\n",
       "      <td>1</td>\n",
       "      <td>[880007, 883616, 931136, 938004, 940947, 94726...</td>\n",
       "    </tr>\n",
       "    <tr>\n",
       "      <th>1</th>\n",
       "      <td>2</td>\n",
       "      <td>[820165, 820291, 826784, 826835, 829009, 85784...</td>\n",
       "    </tr>\n",
       "  </tbody>\n",
       "</table>\n",
       "</div>"
      ],
      "text/plain": [
       "   user_id                                             actual\n",
       "0        1  [880007, 883616, 931136, 938004, 940947, 94726...\n",
       "1        2  [820165, 820291, 826784, 826835, 829009, 85784..."
      ]
     },
     "execution_count": 44,
     "metadata": {},
     "output_type": "execute_result"
    }
   ],
   "source": [
    "result_test_table = data_test.groupby(USER_COL)[ITEM_COL].unique().reset_index()\n",
    "result_test_table.columns=[USER_COL, ACTUAL_COL]\n",
    "result_test_table.head(2)"
   ]
  },
  {
   "cell_type": "markdown",
   "id": "70470554",
   "metadata": {},
   "source": [
    "__Проверяю точность предсказания рекомендаций двухуровневой модели:__"
   ]
  },
  {
   "cell_type": "code",
   "execution_count": 45,
   "id": "0ad759f7",
   "metadata": {},
   "outputs": [
    {
     "name": "stdout",
     "output_type": "stream",
     "text": [
      "('reranked_own_rec', 0.2314835787089468)\n",
      "('own_rec', 0.03890967397113843)\n"
     ]
    },
    {
     "name": "stderr",
     "output_type": "stream",
     "text": [
      "/tmp/ipykernel_6312/493078646.py:58: RuntimeWarning: invalid value encountered in long_scalars\n",
      "  return flags.sum() / len(recommended_list)\n"
     ]
    }
   ],
   "source": [
    "test_preds = lgb.predict_proba(X_test_copy)\n",
    "\n",
    "\n",
    "def rerank(user_id, res_table):\n",
    "    return res_table[res_table[USER_COL]==user_id].sort_values('proba_item_purchase', ascending=False).head(5).item_id.tolist()\n",
    "\n",
    "TOPK_PRECISION = 5\n",
    "predicts = df_test.copy()\n",
    "predicts['proba_item_purchase'] = test_preds[:,1]\n",
    "\n",
    "\n",
    "result_test_table['own_rec'] = result_test_table[USER_COL].apply(lambda x: recommender.get_own_recommendations(x, N=N_PREDICT))\n",
    "result_test_table['reranked_own_rec'] = result_test_table[USER_COL].apply(lambda user_id: rerank(user_id, predicts))\n",
    "\n",
    "print(*sorted(calc_precision(result_test_table, TOPK_PRECISION), key=lambda x: x[1], reverse=True), sep='\\n')"
   ]
  },
  {
   "cell_type": "markdown",
   "id": "7c70aa1f",
   "metadata": {},
   "source": [
    "## ЧТО НЕ ПОЛУЧИЛОСЬ:"
   ]
  },
  {
   "cell_type": "markdown",
   "id": "e856c6d5",
   "metadata": {},
   "source": [
    "### 1. Изменять топ-5000\n",
    "\n",
    "По условиям префильтра на выход идет немногим менее 6000 товаров, потому никак нельзя сделать 7, 8, 10 тыс. товаров.<br>\n",
    "Пробовал брать меньше 5 тыс. - показатели точности падали.\n",
    "\n",
    "Менять условия обрезки не стал, т.к. больше хотелось уделить время на остальной процесс."
   ]
  },
  {
   "cell_type": "code",
   "execution_count": null,
   "id": "fcca41a8",
   "metadata": {},
   "outputs": [],
   "source": [
    "# ПОДБИРАТЬ take_n_popular в большую сторону не получится т.к. условия обрезки префильтра выдают 5870 айтемов\n",
    "%%time\n",
    "\n",
    "# ищем лучший take_n_popular\n",
    "take_n_popular_list = [ 5000, 7000, 10000]\n",
    "TOPK_RECALL = [50, 500]\n",
    "N_PREDICT = [50,  500]\n",
    "\n",
    "res2 = pd.DataFrame(columns=['n_popular', 'own_rec'])\n",
    "\n",
    "for i in take_n_popular_list:\n",
    "    \n",
    "    \n",
    "    \n",
    "    data_train_matcher = data[data['week_no'] < data['week_no'].max() - (VAL_MATCHER_WEEKS + VAL_RANKER_WEEKS)]\n",
    "    data_train_match = prefilter_items(data_train_matcher, item_features=item_features, take_n_popular=i)\n",
    "    \n",
    "    common_users = data_train_match.user_id.values\n",
    "\n",
    "    data_val_matcher = data_val_matcher[data_val_matcher.user_id.isin(common_users)]\n",
    "    data_train_ranker = data_train_ranker[data_train_ranker.user_id.isin(common_users)]\n",
    "    data_val_ranker = data_val_ranker[data_val_ranker.user_id.isin(common_users)]\n",
    "  \n",
    "    recommender = MainRecommender(data_train_match)\n",
    "    N_PREDICT = 500 #500\n",
    "    \n",
    "\n",
    "    result_eval_match = data_val_matcher.groupby(USER_COL)[ITEM_COL].unique().reset_index()\n",
    "    result_eval_match.columns=[USER_COL, ACTUAL_COL]\n",
    "    \n",
    "    result_eval_match['own_rec'] = result_eval_match[USER_COL].apply(lambda x: recommender.get_own_recommendations(x, N=N_PREDICT))\n",
    "   \n",
    "    result_list = sorted(calc_recall(result_eval_match, 500), key=lambda x: x[1],reverse=True)\n",
    "    dict_result = dict(result_list) # ввожу словарь, чтобы при переписывании не произошло ошибки\n",
    "    res2 = res2.append({\n",
    "        'n_popular': i,\n",
    "        'own_rec': dict_result['own_rec']\n",
    "    }, ignore_index=True)\n",
    "    \n",
    "res2  "
   ]
  },
  {
   "cell_type": "markdown",
   "id": "4bf3e965",
   "metadata": {},
   "source": [
    "### 2. Потестить различные веса в user-item матрице (0/1,  log(кол-во покупок + 1))\n",
    "\n",
    "Пробовал только указывать quantity и value_sales, с последним модель отрабатывала хуже.\n",
    "Как впихнуть параметр log(кол-во покупок + 1) не понял."
   ]
  },
  {
   "cell_type": "markdown",
   "id": "cc909c85",
   "metadata": {},
   "source": [
    "### 3. Использовать разные взвешивания матрицы (TF-IDF, BM25 - у него есть параметры) - рекомендация лектора\n",
    "\n",
    "Применительно в этой части не понял как в BM25 задавать параметры - в документации к библиотеке implicit не нашел такого"
   ]
  },
  {
   "cell_type": "markdown",
   "id": "2b7c0cbf",
   "metadata": {},
   "source": [
    "### 4. Использовать GridSearch для тюнинга LGBMClassifier.\n",
    "\n",
    "Проблема в том, как подать свой кастовый алгоритм расчета точности в параметр scoring.<br>\n",
    "И в целом как корректно в рекомендашках использовать GridSearch?<br>\n",
    "\n",
    "Ниже топорный пример подбора через цикл"
   ]
  },
  {
   "cell_type": "code",
   "execution_count": null,
   "id": "c5f310b8",
   "metadata": {},
   "outputs": [],
   "source": [
    "%%time\n",
    "\n",
    "import warnings\n",
    "warnings.filterwarnings('ignore')\n",
    "\n",
    "max_depth_param = [6, 8, 10, 12, 15]\n",
    "n_estimators = [300, 500, 1000]\n",
    "learning_rate = [0.001, 0.01, 0.1]\n",
    "\n",
    "res_list_params = []\n",
    "\n",
    "for depth in max_depth_param:\n",
    "    for n in n_estimators:\n",
    "        for rate in learning_rate:\n",
    "            \n",
    "            # обнуляю result_eval_ranker\n",
    "            results_table = data_val_ranker.groupby(USER_COL)[ITEM_COL].unique().reset_index()\n",
    "            results_table.columns=[USER_COL, ACTUAL_COL]\n",
    "\n",
    "            # запишу результат работы только 1 модели\n",
    "            results_table['own_rec'] = results_table[USER_COL].apply(lambda x: recommender.get_own_recommendations(x, N=N_PREDICT))\n",
    "            results_table.head(2)\n",
    "\n",
    "\n",
    "            lgb = LGBMClassifier(objective='binary',\n",
    "                     max_depth=depth,\n",
    "                     n_estimators=n,\n",
    "                     learning_rate=rate,\n",
    "                     categorical_column=cat_feats,\n",
    "                     n_jobs=-1\n",
    "                   )\n",
    "\n",
    "            lgb.fit(X_train_copy, y_train)\n",
    "\n",
    "            train_preds = lgb.predict_proba(X_train_copy)\n",
    "            df_preds = df_ranker_train.copy()\n",
    "            df_preds['proba_item_purchase'] = train_preds[:,1]\n",
    "            \n",
    "            results_table['reranked_own_rec'] = results_table[USER_COL].apply(lambda user_id: rerank(user_id, df_preds))\n",
    "            \n",
    "            res = sorted(calc_precision(results_table, TOPK_PRECISION), key=lambda x: x[1], reverse=True)\n",
    "            \n",
    "            params_dict = {\n",
    "                'max_depth': depth,\n",
    "                'n_estimators': n,\n",
    "                'learning_rate': rate\n",
    "            }\n",
    "            res_list_params.append((res, params_dict))\n",
    "\n",
    "sorted(res_list_params,key=lambda x: x[0][1], reverse=True)[-1]"
   ]
  },
  {
   "cell_type": "code",
   "execution_count": null,
   "id": "acc4f6a6",
   "metadata": {},
   "outputs": [],
   "source": [
    "# other method to search the best params\n",
    "from hyperopt import fmin, tpe, hp, Trials\n",
    "\n",
    "space = [hp.randint('N', 90, 200),\n",
    "         hp.uniform('regular', 0.001, 0.05),\n",
    "         hp.randint('IT', 40, 80)]\n",
    "mmm=0\n",
    "def f(args):\n",
    "    N, regular ,IT = args\n",
    "    \n",
    "    \n",
    "    model = AlternatingLeastSquares(factors=N, \n",
    "                                regularization=regular,\n",
    "                                iterations=IT, \n",
    "                                calculate_training_loss=True, \n",
    "                                num_threads=0)\n",
    "\n",
    "\n",
    "    model.fit(csr_matrix(user_item_matrix).T.tocsr(),  # На вход item-user matrix\n",
    "          show_progress=True)\n",
    "    mmm=+1\n",
    "    result['BPR_test_'+str(mmm)] = result['user_id'].apply(lambda x: get_recommendations(x, model=model, N=50))\n",
    "    PRECISION=result.apply(lambda row: precision_at_k(row['BPR_test_'+str(mmm)], row['actual'], k=50), axis=1).mean()\n",
    "    print(f'PRECISION= {PRECISION} and N, regular ,IT= {N, regular ,IT}')\n",
    "    \n",
    "    return 1-PRECISION"
   ]
  },
  {
   "cell_type": "code",
   "execution_count": null,
   "id": "9cd5b77c",
   "metadata": {},
   "outputs": [],
   "source": [
    "%%time\n",
    "\n",
    "trials = Trials()\n",
    "\n",
    "best = fmin(f, space, algo = tpe.suggest, max_evals=15, trials=trials)\n",
    "print ('TPE result: ', best)"
   ]
  },
  {
   "cell_type": "markdown",
   "id": "aac5cb79",
   "metadata": {},
   "source": [
    "### 5. Оптимально выбрать n-кандидатов\n",
    "\n",
    "Пришлось брать 500, т.к. с меньшим числом точность все же падала.\n",
    "\n",
    "При N_Predict = 100 точность на трейне по 'reranked_own_rec' упала с 0.28 до 0.206, а на тесте с 0.231 до 0.17"
   ]
  },
  {
   "cell_type": "code",
   "execution_count": null,
   "id": "3fcc4fd2",
   "metadata": {},
   "outputs": [],
   "source": [
    "# здесь метрика полноты, понятно что она то растет, но точность на тесте получается хуже если кандидатов не 500\n",
    "%%time\n",
    "\n",
    "TOPK_RECALL = [50,100, 500]\n",
    "N_PREDICT =[50,100, 500]\n",
    "\n",
    "res = pd.DataFrame(columns=['k_candidades', 'topk_recall','own_rec', 'als_rec','sim_item_rec'])\n",
    "for i in N_PREDICT:\n",
    "    \n",
    "    main_data_result_list = data_val_matcher.groupby(USER_COL)[ITEM_COL].unique().reset_index()\n",
    "    main_data_result_list.columns=[USER_COL, ACTUAL_COL]\n",
    "    main_data_result_list['own_rec'] = main_data_result_list[USER_COL].apply(lambda x: recommender.get_own_recommendations(x, N=i))\n",
    "    main_data_result_list['sim_item_rec'] = main_data_result_list[USER_COL].apply(lambda x: recommender.get_similar_items_recommendation(x, N=i))\n",
    "    main_data_result_list['als_rec'] = main_data_result_list[USER_COL].apply(lambda x: recommender.get_als_recommendations(x, N=i))\n",
    "    \n",
    "    result_list = sorted(calc_recall(main_data_result_list, i), key=lambda x: x[1],reverse=True)\n",
    "    dict_result = dict(result_list) # ввожу словарь, чтобы при переписывании не произошло ошибки\n",
    "    res = res.append({\n",
    "        'k_candidades': i,\n",
    "        'topk_recall': i,\n",
    "        'own_rec': dict_result['own_rec'],\n",
    "        'als_rec': dict_result['als_rec'],\n",
    "        'sim_item_rec': dict_result['sim_item_rec']}, ignore_index=True)\n",
    "res"
   ]
  },
  {
   "cell_type": "markdown",
   "id": "06279dc5",
   "metadata": {},
   "source": [
    "### 6. Feauture ingeneering\n",
    "\n",
    "Пробовал добавлять фичи ниже и точность в итоге упала до меньше чем 5% на трейновых данных. Оставил лишь 3 новых фичи"
   ]
  },
  {
   "cell_type": "code",
   "execution_count": null,
   "id": "0baa30f3",
   "metadata": {},
   "outputs": [],
   "source": [
    "# фича популярности департамента среди общей массы пользователей\n",
    "df_test = df_test.merge(df_join_train_matcher.groupby(by='department').agg('quantity').sum().rename('common_dep_sales'), how='left',on='department')\n",
    "\n",
    "\n",
    "# создаю фичу любимого бренда (кол-во покупок по бренду)\n",
    "df_test = df_test.merge(df_join_train_matcher.groupby(by=[USER_COL, 'brand']).agg('quantity').sum().rename('favourite_user_brand'), how='left',on=[USER_COL,'brand'])\n",
    "\n",
    "# создаю фичу суммы покупок каждого товара для каждого юзера (персональный топ товаров)\n",
    "df_test = df_test.merge(df_join_train_matcher.groupby(by=[USER_COL, ITEM_COL]).agg('sales_value').sum().rename('total_user_item_sales_value'), how='left',on=[USER_COL,ITEM_COL])\n",
    "\n",
    "# создаю фичу кол-ва покупок каждого товара для каждого юзера (персональный топ товаров)\n",
    "df_test = df_test.merge(df_join_train_matcher.groupby(by=[USER_COL, ITEM_COL]).agg('quantity').sum().rename('total_user_item_quantity'), how='left',on=[USER_COL,ITEM_COL])\n",
    "\n",
    "# создаю фичу ср. цены покупки юзера в рамках всех купленных товаров\n",
    "df_test = df_test.merge(df_join_train_matcher.groupby(by=USER_COL).agg('sales_value').mean().rename('mean_price_common'), how='left',on=USER_COL)\n",
    "\n",
    "\n",
    "# создаю фичу ср. цены покупки юзера в рамках каждой категории товаров \n",
    "df_test = df_test.merge(df_join_train_matcher.groupby(by=[USER_COL, 'department']).agg('sales_value').mean().rename('mean_price_in_deps'), how='left',on=[USER_COL,'department'])\n",
    "\n",
    "# создаю фичу общей суммы покупок юзера в рамках каждой категории товаров \n",
    "df_test = df_test.merge(df_join_train_matcher.groupby(by=[USER_COL, 'department']).agg('sales_value').sum().rename('total_value_sales_in_deps'), how='left',on=[USER_COL,'department'])\n",
    "\n",
    "# создаю фичу кол-ва покупок юзера в рамках каждой категории товаров (а-ля ранжирую категории по каждому юзеру)\n",
    "df_test = df_test.merge(df_join_train_matcher.groupby(by=[USER_COL, 'department']).agg('quantity').sum().rename('total_sales_in_deps'), how='left',on=[USER_COL,'department'])\n",
    "\n",
    "df_test['common_dep_sales'] = df_test['common_dep_sales'].astype(float)"
   ]
  },
  {
   "cell_type": "code",
   "execution_count": null,
   "id": "25549949",
   "metadata": {},
   "outputs": [],
   "source": [
    "# # Цена делается и в префильтре, но я ее заводил отдельно \n",
    "\n",
    "# dw = df_join_train_matcher.groupby(by=ITEM_COL).agg({'quantity': ['sum'],'sales_value': ['sum']})\n",
    "# dw.columns=['quantity', 'sales_value']\n",
    "# dw['price'] = 0\n",
    "# dw['item_id'] = dw.index\n",
    "# dw['price'] = dw.sales_value.values / dw.quantity.values\n",
    "# dw = dw.fillna(0)\n",
    "\n",
    "\n",
    "# df_ranker_train = df_ranker_train.merge(dw.price, how='left',on=ITEM_COL)\n",
    "# # ПО ИТОГУ НЕ ИЗМЕНИЛОСЬ НИЧЕГО"
   ]
  }
 ],
 "metadata": {
  "kernelspec": {
   "display_name": "Python 3 (ipykernel)",
   "language": "python",
   "name": "python3"
  },
  "language_info": {
   "codemirror_mode": {
    "name": "ipython",
    "version": 3
   },
   "file_extension": ".py",
   "mimetype": "text/x-python",
   "name": "python",
   "nbconvert_exporter": "python",
   "pygments_lexer": "ipython3",
   "version": "3.8.15"
  }
 },
 "nbformat": 4,
 "nbformat_minor": 5
}
